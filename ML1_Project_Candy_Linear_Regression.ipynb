{
  "nbformat": 4,
  "nbformat_minor": 0,
  "metadata": {
    "colab": {
      "name": "ML1_Project-Candy_Linear Regression.ipynb",
      "version": "0.3.2",
      "provenance": [],
      "collapsed_sections": [
        "VDYDuHSCVfij",
        "DtAImt5JVfjG",
        "yp7yU4tpVfjs",
        "lGwNzvO6Vfjt",
        "0jSBFJpZVfkY",
        "CQr4sWbkVfmS"
      ],
      "include_colab_link": true
    },
    "language_info": {
      "codemirror_mode": {
        "name": "ipython",
        "version": 3
      },
      "file_extension": ".py",
      "mimetype": "text/x-python",
      "name": "python",
      "nbconvert_exporter": "python",
      "pygments_lexer": "ipython3",
      "version": "3.6.8"
    },
    "kernelspec": {
      "display_name": "Python 3",
      "language": "python",
      "name": "python3"
    }
  },
  "cells": [
    {
      "cell_type": "markdown",
      "metadata": {
        "id": "view-in-github",
        "colab_type": "text"
      },
      "source": [
        "<a href=\"https://colab.research.google.com/github/jyotsnapurkar/ML1_Term2_Project/blob/master/ML1_Project_Candy_Linear_Regression.ipynb\" target=\"_parent\"><img src=\"https://colab.research.google.com/assets/colab-badge.svg\" alt=\"Open In Colab\"/></a>"
      ]
    },
    {
      "cell_type": "markdown",
      "metadata": {
        "colab_type": "text",
        "id": "Mp50iItuVfie"
      },
      "source": [
        "## Most Important Attributes of a Candy : Machine Learning I Project using Candy dataset"
      ]
    },
    {
      "cell_type": "markdown",
      "metadata": {
        "colab_type": "text",
        "id": "U3DF7ofJVfig"
      },
      "source": [
        "## Introduction\n",
        " Data Science / Analytics is all about finding valuable insights from the given dataset. In short, finding answers that could help business. In this notebook, we will see how to get started with Data Analysis using Python. The Python packages that we use in this notebook are: numpy, pandas, matplotlib, and seaborn."
      ]
    },
    {
      "cell_type": "markdown",
      "metadata": {
        "colab_type": "text",
        "id": "fX6u3JivVfih"
      },
      "source": [
        "## Data source and dataset : \n",
        "This analysis we will be focusing on deriving the most important attributes of a candy. We'll be utilizing a statistical method called Regression to derive the key factors of a successful candy!\n",
        "Source: https://raw.githubusercontent.com/insaid2018/Term-2/master/Projects/candy-data.csv\n",
        "\n"
      ]
    },
    {
      "cell_type": "markdown",
      "metadata": {
        "colab_type": "text",
        "id": "HT-d2SfNVfii"
      },
      "source": [
        "## Problem Statement - \"What do people look for in candy and what makes candies win?\" \n",
        "- Predict winpercent of candies based on the available dataset\n",
        "- Use a machine learning algorithm like Linear Regression to fit a model that can predict the winning percentage."
      ]
    },
    {
      "cell_type": "markdown",
      "metadata": {
        "colab_type": "text",
        "id": "VDYDuHSCVfij"
      },
      "source": [
        "## Preliminary Steps in Exploratory Data Analysis :"
      ]
    },
    {
      "cell_type": "markdown",
      "metadata": {
        "colab_type": "text",
        "id": "n72sqKm2Vfik"
      },
      "source": [
        "**Import Libraries.**"
      ]
    },
    {
      "cell_type": "code",
      "metadata": {
        "colab_type": "code",
        "id": "rhcuwdCjVfil",
        "colab": {}
      },
      "source": [
        "# Import packages\n",
        "import numpy as np\n",
        "import pandas as pd\n",
        "import matplotlib.pyplot as plt\n",
        "import seaborn as sns\n",
        "import warnings\n",
        "from IPython.display import display\n"
      ],
      "execution_count": 0,
      "outputs": []
    },
    {
      "cell_type": "markdown",
      "metadata": {
        "colab_type": "text",
        "id": "0H2UmxG1Vfiq"
      },
      "source": [
        "**Notebook Settings to ignore warning.**"
      ]
    },
    {
      "cell_type": "code",
      "metadata": {
        "colab_type": "code",
        "id": "H53sgalRVfir",
        "colab": {}
      },
      "source": [
        "# Ignore warning related to pandas_profiling\n",
        "warnings.filterwarnings('ignore') # ignore warnings.\n",
        "%config IPCompleter.greedy = True # autocomplete feature.\n",
        "pd.options.display.max_rows = None # set maximum rows that can be displayed in notebook.\n",
        "pd.options.display.max_columns = None # set maximum columns that can be displayed in notebook.\n",
        "pd.options.display.precision = 2 # set the precision of floating point numbers."
      ],
      "execution_count": 0,
      "outputs": []
    },
    {
      "cell_type": "markdown",
      "metadata": {
        "colab_type": "text",
        "id": "cdyrVEsmVfi2"
      },
      "source": [
        "**Read Data.**"
      ]
    },
    {
      "cell_type": "code",
      "metadata": {
        "colab_type": "code",
        "id": "GCnEFIaQVfi3",
        "outputId": "ca76aeb5-41d6-4d8b-ce28-bcf64f47bfaf",
        "colab": {
          "base_uri": "https://localhost:8080/",
          "height": 34
        }
      },
      "source": [
        "df = pd.read_csv('https://raw.githubusercontent.com/insaid2018/Term-2/master/Projects/candy-data.csv', encoding='utf-8')\n",
        "df.drop_duplicates(inplace=True) # drop duplicates if any.\n",
        "\n",
        "#The very basic information to know is the dimension of the dataset — num rows x num columns.\n",
        "df.shape"
      ],
      "execution_count": 0,
      "outputs": [
        {
          "output_type": "execute_result",
          "data": {
            "text/plain": [
              "(85, 13)"
            ]
          },
          "metadata": {
            "tags": []
          },
          "execution_count": 4
        }
      ]
    },
    {
      "cell_type": "code",
      "metadata": {
        "colab_type": "code",
        "id": "xQ-Y7KGdVfi8",
        "outputId": "e7cbcb88-5393-42ff-dfac-8d23ecd37505",
        "colab": {
          "base_uri": "https://localhost:8080/",
          "height": 323
        }
      },
      "source": [
        "#And then, It’s important to know the different types of data/variables in the given dataset.\n",
        "df.info()"
      ],
      "execution_count": 0,
      "outputs": [
        {
          "output_type": "stream",
          "text": [
            "<class 'pandas.core.frame.DataFrame'>\n",
            "Int64Index: 85 entries, 0 to 84\n",
            "Data columns (total 13 columns):\n",
            "competitorname      85 non-null object\n",
            "chocolate           85 non-null int64\n",
            "fruity              85 non-null int64\n",
            "caramel             85 non-null int64\n",
            "peanutyalmondy      85 non-null int64\n",
            "nougat              85 non-null int64\n",
            "crispedricewafer    85 non-null int64\n",
            "hard                85 non-null int64\n",
            "bar                 85 non-null int64\n",
            "pluribus            85 non-null int64\n",
            "sugarpercent        85 non-null float64\n",
            "pricepercent        85 non-null float64\n",
            "winpercent          85 non-null float64\n",
            "dtypes: float64(3), int64(9), object(1)\n",
            "memory usage: 9.3+ KB\n"
          ],
          "name": "stdout"
        }
      ]
    },
    {
      "cell_type": "code",
      "metadata": {
        "colab_type": "code",
        "id": "Zvw-uXC3VfjB",
        "outputId": "2507c669-c79e-407e-b1a4-c2fb5e027421",
        "colab": {
          "base_uri": "https://localhost:8080/",
          "height": 255
        }
      },
      "source": [
        "# Display the data type for each variable\n",
        "df.dtypes                                                         "
      ],
      "execution_count": 0,
      "outputs": [
        {
          "output_type": "execute_result",
          "data": {
            "text/plain": [
              "competitorname       object\n",
              "chocolate             int64\n",
              "fruity                int64\n",
              "caramel               int64\n",
              "peanutyalmondy        int64\n",
              "nougat                int64\n",
              "crispedricewafer      int64\n",
              "hard                  int64\n",
              "bar                   int64\n",
              "pluribus              int64\n",
              "sugarpercent        float64\n",
              "pricepercent        float64\n",
              "winpercent          float64\n",
              "dtype: object"
            ]
          },
          "metadata": {
            "tags": []
          },
          "execution_count": 7
        }
      ]
    },
    {
      "cell_type": "markdown",
      "metadata": {
        "colab_type": "text",
        "id": "DtAImt5JVfjG"
      },
      "source": [
        "## Data Preparation."
      ]
    },
    {
      "cell_type": "markdown",
      "metadata": {
        "colab_type": "text",
        "id": "LRgNrxd5VfjH"
      },
      "source": [
        "**Check for missing values.**"
      ]
    },
    {
      "cell_type": "code",
      "metadata": {
        "colab_type": "code",
        "id": "g1yvuIdzVfjI",
        "outputId": "8f0a6fa7-ef20-4977-bafa-6fc05a88a6a0",
        "colab": {
          "base_uri": "https://localhost:8080/",
          "height": 255
        }
      },
      "source": [
        "(df.isnull().sum()/len(df)*100).sort_values(ascending=False)"
      ],
      "execution_count": 0,
      "outputs": [
        {
          "output_type": "execute_result",
          "data": {
            "text/plain": [
              "winpercent          0.0\n",
              "pricepercent        0.0\n",
              "sugarpercent        0.0\n",
              "pluribus            0.0\n",
              "bar                 0.0\n",
              "hard                0.0\n",
              "crispedricewafer    0.0\n",
              "nougat              0.0\n",
              "peanutyalmondy      0.0\n",
              "caramel             0.0\n",
              "fruity              0.0\n",
              "chocolate           0.0\n",
              "competitorname      0.0\n",
              "dtype: float64"
            ]
          },
          "metadata": {
            "tags": []
          },
          "execution_count": 8
        }
      ]
    },
    {
      "cell_type": "markdown",
      "metadata": {
        "colab_type": "text",
        "id": "grCibpW9VfjN"
      },
      "source": [
        "No missing values."
      ]
    },
    {
      "cell_type": "code",
      "metadata": {
        "colab_type": "code",
        "id": "tolMbKZrVfjO",
        "outputId": "eea152dd-08e0-4c0a-984b-94437da7581e",
        "colab": {
          "base_uri": "https://localhost:8080/",
          "height": 224
        }
      },
      "source": [
        "# Display the first five rows of the data set\n",
        "df.head()              "
      ],
      "execution_count": 0,
      "outputs": [
        {
          "output_type": "execute_result",
          "data": {
            "text/html": [
              "<div>\n",
              "<style scoped>\n",
              "    .dataframe tbody tr th:only-of-type {\n",
              "        vertical-align: middle;\n",
              "    }\n",
              "\n",
              "    .dataframe tbody tr th {\n",
              "        vertical-align: top;\n",
              "    }\n",
              "\n",
              "    .dataframe thead th {\n",
              "        text-align: right;\n",
              "    }\n",
              "</style>\n",
              "<table border=\"1\" class=\"dataframe\">\n",
              "  <thead>\n",
              "    <tr style=\"text-align: right;\">\n",
              "      <th></th>\n",
              "      <th>competitorname</th>\n",
              "      <th>chocolate</th>\n",
              "      <th>fruity</th>\n",
              "      <th>caramel</th>\n",
              "      <th>peanutyalmondy</th>\n",
              "      <th>nougat</th>\n",
              "      <th>crispedricewafer</th>\n",
              "      <th>hard</th>\n",
              "      <th>bar</th>\n",
              "      <th>pluribus</th>\n",
              "      <th>sugarpercent</th>\n",
              "      <th>pricepercent</th>\n",
              "      <th>winpercent</th>\n",
              "    </tr>\n",
              "  </thead>\n",
              "  <tbody>\n",
              "    <tr>\n",
              "      <th>0</th>\n",
              "      <td>100 Grand</td>\n",
              "      <td>1</td>\n",
              "      <td>0</td>\n",
              "      <td>1</td>\n",
              "      <td>0</td>\n",
              "      <td>0</td>\n",
              "      <td>1</td>\n",
              "      <td>0</td>\n",
              "      <td>1</td>\n",
              "      <td>0</td>\n",
              "      <td>0.73</td>\n",
              "      <td>0.86</td>\n",
              "      <td>66.97</td>\n",
              "    </tr>\n",
              "    <tr>\n",
              "      <th>1</th>\n",
              "      <td>3 Musketeers</td>\n",
              "      <td>1</td>\n",
              "      <td>0</td>\n",
              "      <td>0</td>\n",
              "      <td>0</td>\n",
              "      <td>1</td>\n",
              "      <td>0</td>\n",
              "      <td>0</td>\n",
              "      <td>1</td>\n",
              "      <td>0</td>\n",
              "      <td>0.60</td>\n",
              "      <td>0.51</td>\n",
              "      <td>67.60</td>\n",
              "    </tr>\n",
              "    <tr>\n",
              "      <th>2</th>\n",
              "      <td>One dime</td>\n",
              "      <td>0</td>\n",
              "      <td>0</td>\n",
              "      <td>0</td>\n",
              "      <td>0</td>\n",
              "      <td>0</td>\n",
              "      <td>0</td>\n",
              "      <td>0</td>\n",
              "      <td>0</td>\n",
              "      <td>0</td>\n",
              "      <td>0.01</td>\n",
              "      <td>0.12</td>\n",
              "      <td>32.26</td>\n",
              "    </tr>\n",
              "    <tr>\n",
              "      <th>3</th>\n",
              "      <td>One quarter</td>\n",
              "      <td>0</td>\n",
              "      <td>0</td>\n",
              "      <td>0</td>\n",
              "      <td>0</td>\n",
              "      <td>0</td>\n",
              "      <td>0</td>\n",
              "      <td>0</td>\n",
              "      <td>0</td>\n",
              "      <td>0</td>\n",
              "      <td>0.01</td>\n",
              "      <td>0.51</td>\n",
              "      <td>46.12</td>\n",
              "    </tr>\n",
              "    <tr>\n",
              "      <th>4</th>\n",
              "      <td>Air Heads</td>\n",
              "      <td>0</td>\n",
              "      <td>1</td>\n",
              "      <td>0</td>\n",
              "      <td>0</td>\n",
              "      <td>0</td>\n",
              "      <td>0</td>\n",
              "      <td>0</td>\n",
              "      <td>0</td>\n",
              "      <td>0</td>\n",
              "      <td>0.91</td>\n",
              "      <td>0.51</td>\n",
              "      <td>52.34</td>\n",
              "    </tr>\n",
              "  </tbody>\n",
              "</table>\n",
              "</div>"
            ],
            "text/plain": [
              "  competitorname  chocolate  fruity  caramel  peanutyalmondy  nougat  \\\n",
              "0      100 Grand          1       0        1               0       0   \n",
              "1   3 Musketeers          1       0        0               0       1   \n",
              "2       One dime          0       0        0               0       0   \n",
              "3    One quarter          0       0        0               0       0   \n",
              "4      Air Heads          0       1        0               0       0   \n",
              "\n",
              "   crispedricewafer  hard  bar  pluribus  sugarpercent  pricepercent  \\\n",
              "0                 1     0    1         0          0.73          0.86   \n",
              "1                 0     0    1         0          0.60          0.51   \n",
              "2                 0     0    0         0          0.01          0.12   \n",
              "3                 0     0    0         0          0.01          0.51   \n",
              "4                 0     0    0         0          0.91          0.51   \n",
              "\n",
              "   winpercent  \n",
              "0       66.97  \n",
              "1       67.60  \n",
              "2       32.26  \n",
              "3       46.12  \n",
              "4       52.34  "
            ]
          },
          "metadata": {
            "tags": []
          },
          "execution_count": 9
        }
      ]
    },
    {
      "cell_type": "markdown",
      "metadata": {
        "colab_type": "text",
        "id": "DL5qwOWdVfjT"
      },
      "source": [
        "We have a total of 12 variables that describe a chocolate. 9 of them are categorical and the rest, i.e. 3 are numerical variables."
      ]
    },
    {
      "cell_type": "markdown",
      "metadata": {
        "colab_type": "text",
        "id": "1MmWNqPjVfjU"
      },
      "source": [
        "1. chocolate: Does it contain chocolate?\n",
        "2. fruity: Is it fruit flavored?\n",
        "3. caramel: Is there caramel in the candy?\n",
        "4. peanutalmondy: Does it contain peanuts, peanut butter or almonds?\n",
        "5. nougat: Does it contain nougat?\n",
        "6. crispedricewafer: Does it contain crisped rice, wafers, or a cookie component?\n",
        "7. hard: Is it a hard candy?\n",
        "8. bar: Is it a candy bar?\n",
        "9. pluribus: Is it one of many candies in a bag or box?\n",
        "10. sugarpercent: The percentile of sugar it falls under within the data set.\n",
        "11. pricepercent: The unit price percentile compared to the rest of the set.\n",
        "12. winpercent: The overall win percentage according to 269,000 matchups."
      ]
    },
    {
      "cell_type": "markdown",
      "metadata": {
        "colab_type": "text",
        "id": "_CJAvtUhVfjV"
      },
      "source": [
        "### Features and target \n",
        "  - There are 3 continuous variables : sugarpercent,pricepercent and winpercent\n",
        "  - There are 9 categorical variables : chocolate,fruity,caramel,peanutyalmondy,nougat,crispedricewafer,hard,bar,\tpluribus\n",
        "  - competitorname - categorical text variable\n",
        "  - The target variable to predict is **winpercent**."
      ]
    },
    {
      "cell_type": "code",
      "metadata": {
        "colab_type": "code",
        "id": "UO-EmzgjVfjW",
        "outputId": "2ff21263-44a6-49e8-c83d-814f26c71409",
        "colab": {
          "base_uri": "https://localhost:8080/",
          "height": 297
        }
      },
      "source": [
        "# Descriptive statistics for the numerical variables\n",
        "df.describe()                              "
      ],
      "execution_count": 0,
      "outputs": [
        {
          "output_type": "execute_result",
          "data": {
            "text/html": [
              "<div>\n",
              "<style scoped>\n",
              "    .dataframe tbody tr th:only-of-type {\n",
              "        vertical-align: middle;\n",
              "    }\n",
              "\n",
              "    .dataframe tbody tr th {\n",
              "        vertical-align: top;\n",
              "    }\n",
              "\n",
              "    .dataframe thead th {\n",
              "        text-align: right;\n",
              "    }\n",
              "</style>\n",
              "<table border=\"1\" class=\"dataframe\">\n",
              "  <thead>\n",
              "    <tr style=\"text-align: right;\">\n",
              "      <th></th>\n",
              "      <th>chocolate</th>\n",
              "      <th>fruity</th>\n",
              "      <th>caramel</th>\n",
              "      <th>peanutyalmondy</th>\n",
              "      <th>nougat</th>\n",
              "      <th>crispedricewafer</th>\n",
              "      <th>hard</th>\n",
              "      <th>bar</th>\n",
              "      <th>pluribus</th>\n",
              "      <th>sugarpercent</th>\n",
              "      <th>pricepercent</th>\n",
              "      <th>winpercent</th>\n",
              "    </tr>\n",
              "  </thead>\n",
              "  <tbody>\n",
              "    <tr>\n",
              "      <th>count</th>\n",
              "      <td>85.00</td>\n",
              "      <td>85.00</td>\n",
              "      <td>85.00</td>\n",
              "      <td>85.00</td>\n",
              "      <td>85.00</td>\n",
              "      <td>85.00</td>\n",
              "      <td>85.00</td>\n",
              "      <td>85.00</td>\n",
              "      <td>85.00</td>\n",
              "      <td>85.00</td>\n",
              "      <td>85.00</td>\n",
              "      <td>85.00</td>\n",
              "    </tr>\n",
              "    <tr>\n",
              "      <th>mean</th>\n",
              "      <td>0.44</td>\n",
              "      <td>0.45</td>\n",
              "      <td>0.16</td>\n",
              "      <td>0.16</td>\n",
              "      <td>0.08</td>\n",
              "      <td>0.08</td>\n",
              "      <td>0.18</td>\n",
              "      <td>0.25</td>\n",
              "      <td>0.52</td>\n",
              "      <td>0.48</td>\n",
              "      <td>0.47</td>\n",
              "      <td>50.32</td>\n",
              "    </tr>\n",
              "    <tr>\n",
              "      <th>std</th>\n",
              "      <td>0.50</td>\n",
              "      <td>0.50</td>\n",
              "      <td>0.37</td>\n",
              "      <td>0.37</td>\n",
              "      <td>0.28</td>\n",
              "      <td>0.28</td>\n",
              "      <td>0.38</td>\n",
              "      <td>0.43</td>\n",
              "      <td>0.50</td>\n",
              "      <td>0.28</td>\n",
              "      <td>0.29</td>\n",
              "      <td>14.71</td>\n",
              "    </tr>\n",
              "    <tr>\n",
              "      <th>min</th>\n",
              "      <td>0.00</td>\n",
              "      <td>0.00</td>\n",
              "      <td>0.00</td>\n",
              "      <td>0.00</td>\n",
              "      <td>0.00</td>\n",
              "      <td>0.00</td>\n",
              "      <td>0.00</td>\n",
              "      <td>0.00</td>\n",
              "      <td>0.00</td>\n",
              "      <td>0.01</td>\n",
              "      <td>0.01</td>\n",
              "      <td>22.45</td>\n",
              "    </tr>\n",
              "    <tr>\n",
              "      <th>25%</th>\n",
              "      <td>0.00</td>\n",
              "      <td>0.00</td>\n",
              "      <td>0.00</td>\n",
              "      <td>0.00</td>\n",
              "      <td>0.00</td>\n",
              "      <td>0.00</td>\n",
              "      <td>0.00</td>\n",
              "      <td>0.00</td>\n",
              "      <td>0.00</td>\n",
              "      <td>0.22</td>\n",
              "      <td>0.26</td>\n",
              "      <td>39.14</td>\n",
              "    </tr>\n",
              "    <tr>\n",
              "      <th>50%</th>\n",
              "      <td>0.00</td>\n",
              "      <td>0.00</td>\n",
              "      <td>0.00</td>\n",
              "      <td>0.00</td>\n",
              "      <td>0.00</td>\n",
              "      <td>0.00</td>\n",
              "      <td>0.00</td>\n",
              "      <td>0.00</td>\n",
              "      <td>1.00</td>\n",
              "      <td>0.47</td>\n",
              "      <td>0.47</td>\n",
              "      <td>47.83</td>\n",
              "    </tr>\n",
              "    <tr>\n",
              "      <th>75%</th>\n",
              "      <td>1.00</td>\n",
              "      <td>1.00</td>\n",
              "      <td>0.00</td>\n",
              "      <td>0.00</td>\n",
              "      <td>0.00</td>\n",
              "      <td>0.00</td>\n",
              "      <td>0.00</td>\n",
              "      <td>0.00</td>\n",
              "      <td>1.00</td>\n",
              "      <td>0.73</td>\n",
              "      <td>0.65</td>\n",
              "      <td>59.86</td>\n",
              "    </tr>\n",
              "    <tr>\n",
              "      <th>max</th>\n",
              "      <td>1.00</td>\n",
              "      <td>1.00</td>\n",
              "      <td>1.00</td>\n",
              "      <td>1.00</td>\n",
              "      <td>1.00</td>\n",
              "      <td>1.00</td>\n",
              "      <td>1.00</td>\n",
              "      <td>1.00</td>\n",
              "      <td>1.00</td>\n",
              "      <td>0.99</td>\n",
              "      <td>0.98</td>\n",
              "      <td>84.18</td>\n",
              "    </tr>\n",
              "  </tbody>\n",
              "</table>\n",
              "</div>"
            ],
            "text/plain": [
              "       chocolate  fruity  caramel  peanutyalmondy  nougat  crispedricewafer  \\\n",
              "count      85.00   85.00    85.00           85.00   85.00             85.00   \n",
              "mean        0.44    0.45     0.16            0.16    0.08              0.08   \n",
              "std         0.50    0.50     0.37            0.37    0.28              0.28   \n",
              "min         0.00    0.00     0.00            0.00    0.00              0.00   \n",
              "25%         0.00    0.00     0.00            0.00    0.00              0.00   \n",
              "50%         0.00    0.00     0.00            0.00    0.00              0.00   \n",
              "75%         1.00    1.00     0.00            0.00    0.00              0.00   \n",
              "max         1.00    1.00     1.00            1.00    1.00              1.00   \n",
              "\n",
              "        hard    bar  pluribus  sugarpercent  pricepercent  winpercent  \n",
              "count  85.00  85.00     85.00         85.00         85.00       85.00  \n",
              "mean    0.18   0.25      0.52          0.48          0.47       50.32  \n",
              "std     0.38   0.43      0.50          0.28          0.29       14.71  \n",
              "min     0.00   0.00      0.00          0.01          0.01       22.45  \n",
              "25%     0.00   0.00      0.00          0.22          0.26       39.14  \n",
              "50%     0.00   0.00      1.00          0.47          0.47       47.83  \n",
              "75%     0.00   0.00      1.00          0.73          0.65       59.86  \n",
              "max     1.00   1.00      1.00          0.99          0.98       84.18  "
            ]
          },
          "metadata": {
            "tags": []
          },
          "execution_count": 10
        }
      ]
    },
    {
      "cell_type": "code",
      "metadata": {
        "colab_type": "code",
        "id": "RWISiH5oVfjb",
        "colab": {}
      },
      "source": [
        "df['winpercent'] = df['winpercent']/100"
      ],
      "execution_count": 0,
      "outputs": []
    },
    {
      "cell_type": "markdown",
      "metadata": {
        "colab_type": "text",
        "id": "Hv_tQ3KHVfje"
      },
      "source": [
        "**Deriving new features.**"
      ]
    },
    {
      "cell_type": "code",
      "metadata": {
        "colab_type": "code",
        "id": "tGMC0cerVfjg",
        "colab": {}
      },
      "source": [
        "df['sugarbyprice'] = df['sugarpercent'].div(df['pricepercent']) # higher value means the candy is sweet as well as cheap.\n",
        "df['winbyprice'] = df['winpercent'].div(df['pricepercent']) # higher value means the candy is more liked as well as cheap."
      ],
      "execution_count": 0,
      "outputs": []
    },
    {
      "cell_type": "code",
      "metadata": {
        "colab_type": "code",
        "id": "jK9XsVn6Vfjl",
        "colab": {}
      },
      "source": [
        "categorival_vars = ['chocolate', 'fruity', 'caramel', 'peanutyalmondy', 'nougat', 'crispedricewafer', 'hard', 'bar',\n",
        "                    'pluribus']\n",
        "numerical_vars = ['sugarpercent', 'pricepercent', 'winpercent', 'sugarbyprice', 'winbyprice']"
      ],
      "execution_count": 0,
      "outputs": []
    },
    {
      "cell_type": "markdown",
      "metadata": {
        "colab_type": "text",
        "id": "eLyAfMZHVfjr"
      },
      "source": [
        "<hr>"
      ]
    },
    {
      "cell_type": "markdown",
      "metadata": {
        "colab_type": "text",
        "id": "yp7yU4tpVfjs"
      },
      "source": [
        "## Data Understanding."
      ]
    },
    {
      "cell_type": "markdown",
      "metadata": {
        "colab_type": "text",
        "id": "lGwNzvO6Vfjt"
      },
      "source": [
        "### **Some Questions one might ask.**"
      ]
    },
    {
      "cell_type": "markdown",
      "metadata": {
        "colab_type": "text",
        "id": "cV5Fz9aiVfjw"
      },
      "source": [
        "__1. Top 10 winner candies.__"
      ]
    },
    {
      "cell_type": "code",
      "metadata": {
        "colab_type": "code",
        "id": "XgvZhZYrVfjy",
        "outputId": "5f311cee-f21d-4611-9a5a-9cdc716cfab8",
        "colab": {
          "base_uri": "https://localhost:8080/",
          "height": 430
        }
      },
      "source": [
        "df['competitorname'] = df['competitorname'].str.replace('Õ', \"'\") # Special character was appearing in name of candy.\n",
        "df.sort_values(by=['winpercent', 'sugarpercent'], ascending=False).head(10)"
      ],
      "execution_count": 0,
      "outputs": [
        {
          "output_type": "execute_result",
          "data": {
            "text/html": [
              "<div>\n",
              "<style scoped>\n",
              "    .dataframe tbody tr th:only-of-type {\n",
              "        vertical-align: middle;\n",
              "    }\n",
              "\n",
              "    .dataframe tbody tr th {\n",
              "        vertical-align: top;\n",
              "    }\n",
              "\n",
              "    .dataframe thead th {\n",
              "        text-align: right;\n",
              "    }\n",
              "</style>\n",
              "<table border=\"1\" class=\"dataframe\">\n",
              "  <thead>\n",
              "    <tr style=\"text-align: right;\">\n",
              "      <th></th>\n",
              "      <th>competitorname</th>\n",
              "      <th>chocolate</th>\n",
              "      <th>fruity</th>\n",
              "      <th>caramel</th>\n",
              "      <th>peanutyalmondy</th>\n",
              "      <th>nougat</th>\n",
              "      <th>crispedricewafer</th>\n",
              "      <th>hard</th>\n",
              "      <th>bar</th>\n",
              "      <th>pluribus</th>\n",
              "      <th>sugarpercent</th>\n",
              "      <th>pricepercent</th>\n",
              "      <th>winpercent</th>\n",
              "      <th>sugarbyprice</th>\n",
              "      <th>winbyprice</th>\n",
              "    </tr>\n",
              "  </thead>\n",
              "  <tbody>\n",
              "    <tr>\n",
              "      <th>52</th>\n",
              "      <td>Reese's Peanut Butter cup</td>\n",
              "      <td>1</td>\n",
              "      <td>0</td>\n",
              "      <td>0</td>\n",
              "      <td>1</td>\n",
              "      <td>0</td>\n",
              "      <td>0</td>\n",
              "      <td>0</td>\n",
              "      <td>0</td>\n",
              "      <td>0</td>\n",
              "      <td>0.72</td>\n",
              "      <td>0.65</td>\n",
              "      <td>0.84</td>\n",
              "      <td>1.11</td>\n",
              "      <td>1.29</td>\n",
              "    </tr>\n",
              "    <tr>\n",
              "      <th>51</th>\n",
              "      <td>Reese's Miniatures</td>\n",
              "      <td>1</td>\n",
              "      <td>0</td>\n",
              "      <td>0</td>\n",
              "      <td>1</td>\n",
              "      <td>0</td>\n",
              "      <td>0</td>\n",
              "      <td>0</td>\n",
              "      <td>0</td>\n",
              "      <td>0</td>\n",
              "      <td>0.03</td>\n",
              "      <td>0.28</td>\n",
              "      <td>0.82</td>\n",
              "      <td>0.12</td>\n",
              "      <td>2.93</td>\n",
              "    </tr>\n",
              "    <tr>\n",
              "      <th>79</th>\n",
              "      <td>Twix</td>\n",
              "      <td>1</td>\n",
              "      <td>0</td>\n",
              "      <td>1</td>\n",
              "      <td>0</td>\n",
              "      <td>0</td>\n",
              "      <td>1</td>\n",
              "      <td>0</td>\n",
              "      <td>1</td>\n",
              "      <td>0</td>\n",
              "      <td>0.55</td>\n",
              "      <td>0.91</td>\n",
              "      <td>0.82</td>\n",
              "      <td>0.60</td>\n",
              "      <td>0.90</td>\n",
              "    </tr>\n",
              "    <tr>\n",
              "      <th>28</th>\n",
              "      <td>Kit Kat</td>\n",
              "      <td>1</td>\n",
              "      <td>0</td>\n",
              "      <td>0</td>\n",
              "      <td>0</td>\n",
              "      <td>0</td>\n",
              "      <td>1</td>\n",
              "      <td>0</td>\n",
              "      <td>1</td>\n",
              "      <td>0</td>\n",
              "      <td>0.31</td>\n",
              "      <td>0.51</td>\n",
              "      <td>0.77</td>\n",
              "      <td>0.61</td>\n",
              "      <td>1.50</td>\n",
              "    </tr>\n",
              "    <tr>\n",
              "      <th>64</th>\n",
              "      <td>Snickers</td>\n",
              "      <td>1</td>\n",
              "      <td>0</td>\n",
              "      <td>1</td>\n",
              "      <td>1</td>\n",
              "      <td>1</td>\n",
              "      <td>0</td>\n",
              "      <td>0</td>\n",
              "      <td>1</td>\n",
              "      <td>0</td>\n",
              "      <td>0.55</td>\n",
              "      <td>0.65</td>\n",
              "      <td>0.77</td>\n",
              "      <td>0.84</td>\n",
              "      <td>1.18</td>\n",
              "    </tr>\n",
              "    <tr>\n",
              "      <th>53</th>\n",
              "      <td>Reese's pieces</td>\n",
              "      <td>1</td>\n",
              "      <td>0</td>\n",
              "      <td>0</td>\n",
              "      <td>1</td>\n",
              "      <td>0</td>\n",
              "      <td>0</td>\n",
              "      <td>0</td>\n",
              "      <td>0</td>\n",
              "      <td>1</td>\n",
              "      <td>0.41</td>\n",
              "      <td>0.65</td>\n",
              "      <td>0.73</td>\n",
              "      <td>0.62</td>\n",
              "      <td>1.13</td>\n",
              "    </tr>\n",
              "    <tr>\n",
              "      <th>36</th>\n",
              "      <td>Milky Way</td>\n",
              "      <td>1</td>\n",
              "      <td>0</td>\n",
              "      <td>1</td>\n",
              "      <td>0</td>\n",
              "      <td>1</td>\n",
              "      <td>0</td>\n",
              "      <td>0</td>\n",
              "      <td>1</td>\n",
              "      <td>0</td>\n",
              "      <td>0.60</td>\n",
              "      <td>0.65</td>\n",
              "      <td>0.73</td>\n",
              "      <td>0.93</td>\n",
              "      <td>1.12</td>\n",
              "    </tr>\n",
              "    <tr>\n",
              "      <th>54</th>\n",
              "      <td>Reese's stuffed with pieces</td>\n",
              "      <td>1</td>\n",
              "      <td>0</td>\n",
              "      <td>0</td>\n",
              "      <td>1</td>\n",
              "      <td>0</td>\n",
              "      <td>0</td>\n",
              "      <td>0</td>\n",
              "      <td>0</td>\n",
              "      <td>0</td>\n",
              "      <td>0.99</td>\n",
              "      <td>0.65</td>\n",
              "      <td>0.73</td>\n",
              "      <td>1.52</td>\n",
              "      <td>1.12</td>\n",
              "    </tr>\n",
              "    <tr>\n",
              "      <th>32</th>\n",
              "      <td>Peanut butter M&amp;M's</td>\n",
              "      <td>1</td>\n",
              "      <td>0</td>\n",
              "      <td>0</td>\n",
              "      <td>1</td>\n",
              "      <td>0</td>\n",
              "      <td>0</td>\n",
              "      <td>0</td>\n",
              "      <td>0</td>\n",
              "      <td>1</td>\n",
              "      <td>0.82</td>\n",
              "      <td>0.65</td>\n",
              "      <td>0.71</td>\n",
              "      <td>1.27</td>\n",
              "      <td>1.10</td>\n",
              "    </tr>\n",
              "    <tr>\n",
              "      <th>42</th>\n",
              "      <td>Nestle Butterfinger</td>\n",
              "      <td>1</td>\n",
              "      <td>0</td>\n",
              "      <td>0</td>\n",
              "      <td>1</td>\n",
              "      <td>0</td>\n",
              "      <td>0</td>\n",
              "      <td>0</td>\n",
              "      <td>1</td>\n",
              "      <td>0</td>\n",
              "      <td>0.60</td>\n",
              "      <td>0.77</td>\n",
              "      <td>0.71</td>\n",
              "      <td>0.79</td>\n",
              "      <td>0.92</td>\n",
              "    </tr>\n",
              "  </tbody>\n",
              "</table>\n",
              "</div>"
            ],
            "text/plain": [
              "                 competitorname  chocolate  fruity  caramel  peanutyalmondy  \\\n",
              "52    Reese's Peanut Butter cup          1       0        0               1   \n",
              "51           Reese's Miniatures          1       0        0               1   \n",
              "79                         Twix          1       0        1               0   \n",
              "28                      Kit Kat          1       0        0               0   \n",
              "64                     Snickers          1       0        1               1   \n",
              "53               Reese's pieces          1       0        0               1   \n",
              "36                    Milky Way          1       0        1               0   \n",
              "54  Reese's stuffed with pieces          1       0        0               1   \n",
              "32          Peanut butter M&M's          1       0        0               1   \n",
              "42          Nestle Butterfinger          1       0        0               1   \n",
              "\n",
              "    nougat  crispedricewafer  hard  bar  pluribus  sugarpercent  pricepercent  \\\n",
              "52       0                 0     0    0         0          0.72          0.65   \n",
              "51       0                 0     0    0         0          0.03          0.28   \n",
              "79       0                 1     0    1         0          0.55          0.91   \n",
              "28       0                 1     0    1         0          0.31          0.51   \n",
              "64       1                 0     0    1         0          0.55          0.65   \n",
              "53       0                 0     0    0         1          0.41          0.65   \n",
              "36       1                 0     0    1         0          0.60          0.65   \n",
              "54       0                 0     0    0         0          0.99          0.65   \n",
              "32       0                 0     0    0         1          0.82          0.65   \n",
              "42       0                 0     0    1         0          0.60          0.77   \n",
              "\n",
              "    winpercent  sugarbyprice  winbyprice  \n",
              "52        0.84          1.11        1.29  \n",
              "51        0.82          0.12        2.93  \n",
              "79        0.82          0.60        0.90  \n",
              "28        0.77          0.61        1.50  \n",
              "64        0.77          0.84        1.18  \n",
              "53        0.73          0.62        1.13  \n",
              "36        0.73          0.93        1.12  \n",
              "54        0.73          1.52        1.12  \n",
              "32        0.71          1.27        1.10  \n",
              "42        0.71          0.79        0.92  "
            ]
          },
          "metadata": {
            "tags": []
          },
          "execution_count": 14
        }
      ]
    },
    {
      "cell_type": "markdown",
      "metadata": {
        "colab_type": "text",
        "id": "h6i8nR7rVfj9"
      },
      "source": [
        "__Reese's__ seem to be a favourite. Note that all the top competitors are __chocolaty__ as well. \n",
        "Also, __Reese's Miniatures__ is very __cheap__ when compared to top competitors and overall as well."
      ]
    },
    {
      "cell_type": "markdown",
      "metadata": {
        "colab_type": "text",
        "id": "l80nE_xcVfj_"
      },
      "source": [
        "__2. Competitors which are not chocolaty but winners.__"
      ]
    },
    {
      "cell_type": "code",
      "metadata": {
        "colab_type": "code",
        "id": "mWver6ujVfkA",
        "outputId": "a4dc3f19-dd0b-4c99-cf27-4cbe1ede76d2",
        "colab": {
          "base_uri": "https://localhost:8080/",
          "height": 413
        }
      },
      "source": [
        "df[df['chocolate']==0].sort_values(by=['winpercent', 'sugarpercent'], ascending=False).head(10)"
      ],
      "execution_count": 0,
      "outputs": [
        {
          "output_type": "execute_result",
          "data": {
            "text/html": [
              "<div>\n",
              "<style scoped>\n",
              "    .dataframe tbody tr th:only-of-type {\n",
              "        vertical-align: middle;\n",
              "    }\n",
              "\n",
              "    .dataframe tbody tr th {\n",
              "        vertical-align: top;\n",
              "    }\n",
              "\n",
              "    .dataframe thead th {\n",
              "        text-align: right;\n",
              "    }\n",
              "</style>\n",
              "<table border=\"1\" class=\"dataframe\">\n",
              "  <thead>\n",
              "    <tr style=\"text-align: right;\">\n",
              "      <th></th>\n",
              "      <th>competitorname</th>\n",
              "      <th>chocolate</th>\n",
              "      <th>fruity</th>\n",
              "      <th>caramel</th>\n",
              "      <th>peanutyalmondy</th>\n",
              "      <th>nougat</th>\n",
              "      <th>crispedricewafer</th>\n",
              "      <th>hard</th>\n",
              "      <th>bar</th>\n",
              "      <th>pluribus</th>\n",
              "      <th>sugarpercent</th>\n",
              "      <th>pricepercent</th>\n",
              "      <th>winpercent</th>\n",
              "      <th>sugarbyprice</th>\n",
              "      <th>winbyprice</th>\n",
              "    </tr>\n",
              "  </thead>\n",
              "  <tbody>\n",
              "    <tr>\n",
              "      <th>68</th>\n",
              "      <td>Starburst</td>\n",
              "      <td>0</td>\n",
              "      <td>1</td>\n",
              "      <td>0</td>\n",
              "      <td>0</td>\n",
              "      <td>0</td>\n",
              "      <td>0</td>\n",
              "      <td>0</td>\n",
              "      <td>0</td>\n",
              "      <td>1</td>\n",
              "      <td>0.15</td>\n",
              "      <td>0.22</td>\n",
              "      <td>0.67</td>\n",
              "      <td>0.69</td>\n",
              "      <td>3.05</td>\n",
              "    </tr>\n",
              "    <tr>\n",
              "      <th>60</th>\n",
              "      <td>Skittles original</td>\n",
              "      <td>0</td>\n",
              "      <td>1</td>\n",
              "      <td>0</td>\n",
              "      <td>0</td>\n",
              "      <td>0</td>\n",
              "      <td>0</td>\n",
              "      <td>0</td>\n",
              "      <td>0</td>\n",
              "      <td>1</td>\n",
              "      <td>0.94</td>\n",
              "      <td>0.22</td>\n",
              "      <td>0.63</td>\n",
              "      <td>4.28</td>\n",
              "      <td>2.87</td>\n",
              "    </tr>\n",
              "    <tr>\n",
              "      <th>66</th>\n",
              "      <td>Sour Patch Kids</td>\n",
              "      <td>0</td>\n",
              "      <td>1</td>\n",
              "      <td>0</td>\n",
              "      <td>0</td>\n",
              "      <td>0</td>\n",
              "      <td>0</td>\n",
              "      <td>0</td>\n",
              "      <td>0</td>\n",
              "      <td>1</td>\n",
              "      <td>0.07</td>\n",
              "      <td>0.12</td>\n",
              "      <td>0.60</td>\n",
              "      <td>0.59</td>\n",
              "      <td>5.16</td>\n",
              "    </tr>\n",
              "    <tr>\n",
              "      <th>18</th>\n",
              "      <td>Haribo Gold Bears</td>\n",
              "      <td>0</td>\n",
              "      <td>1</td>\n",
              "      <td>0</td>\n",
              "      <td>0</td>\n",
              "      <td>0</td>\n",
              "      <td>0</td>\n",
              "      <td>0</td>\n",
              "      <td>0</td>\n",
              "      <td>1</td>\n",
              "      <td>0.47</td>\n",
              "      <td>0.47</td>\n",
              "      <td>0.57</td>\n",
              "      <td>1.00</td>\n",
              "      <td>1.23</td>\n",
              "    </tr>\n",
              "    <tr>\n",
              "      <th>41</th>\n",
              "      <td>Nerds</td>\n",
              "      <td>0</td>\n",
              "      <td>1</td>\n",
              "      <td>0</td>\n",
              "      <td>0</td>\n",
              "      <td>0</td>\n",
              "      <td>0</td>\n",
              "      <td>1</td>\n",
              "      <td>0</td>\n",
              "      <td>1</td>\n",
              "      <td>0.85</td>\n",
              "      <td>0.32</td>\n",
              "      <td>0.55</td>\n",
              "      <td>2.61</td>\n",
              "      <td>1.70</td>\n",
              "    </tr>\n",
              "    <tr>\n",
              "      <th>61</th>\n",
              "      <td>Skittles wildberry</td>\n",
              "      <td>0</td>\n",
              "      <td>1</td>\n",
              "      <td>0</td>\n",
              "      <td>0</td>\n",
              "      <td>0</td>\n",
              "      <td>0</td>\n",
              "      <td>0</td>\n",
              "      <td>0</td>\n",
              "      <td>1</td>\n",
              "      <td>0.94</td>\n",
              "      <td>0.22</td>\n",
              "      <td>0.55</td>\n",
              "      <td>4.28</td>\n",
              "      <td>2.50</td>\n",
              "    </tr>\n",
              "    <tr>\n",
              "      <th>73</th>\n",
              "      <td>Swedish Fish</td>\n",
              "      <td>0</td>\n",
              "      <td>1</td>\n",
              "      <td>0</td>\n",
              "      <td>0</td>\n",
              "      <td>0</td>\n",
              "      <td>0</td>\n",
              "      <td>0</td>\n",
              "      <td>0</td>\n",
              "      <td>1</td>\n",
              "      <td>0.60</td>\n",
              "      <td>0.76</td>\n",
              "      <td>0.55</td>\n",
              "      <td>0.80</td>\n",
              "      <td>0.73</td>\n",
              "    </tr>\n",
              "    <tr>\n",
              "      <th>31</th>\n",
              "      <td>Lifesavers big ring gummies</td>\n",
              "      <td>0</td>\n",
              "      <td>1</td>\n",
              "      <td>0</td>\n",
              "      <td>0</td>\n",
              "      <td>0</td>\n",
              "      <td>0</td>\n",
              "      <td>0</td>\n",
              "      <td>0</td>\n",
              "      <td>0</td>\n",
              "      <td>0.27</td>\n",
              "      <td>0.28</td>\n",
              "      <td>0.53</td>\n",
              "      <td>0.96</td>\n",
              "      <td>1.90</td>\n",
              "    </tr>\n",
              "    <tr>\n",
              "      <th>67</th>\n",
              "      <td>Sour Patch Tricksters</td>\n",
              "      <td>0</td>\n",
              "      <td>1</td>\n",
              "      <td>0</td>\n",
              "      <td>0</td>\n",
              "      <td>0</td>\n",
              "      <td>0</td>\n",
              "      <td>0</td>\n",
              "      <td>0</td>\n",
              "      <td>1</td>\n",
              "      <td>0.07</td>\n",
              "      <td>0.12</td>\n",
              "      <td>0.53</td>\n",
              "      <td>0.59</td>\n",
              "      <td>4.55</td>\n",
              "    </tr>\n",
              "    <tr>\n",
              "      <th>4</th>\n",
              "      <td>Air Heads</td>\n",
              "      <td>0</td>\n",
              "      <td>1</td>\n",
              "      <td>0</td>\n",
              "      <td>0</td>\n",
              "      <td>0</td>\n",
              "      <td>0</td>\n",
              "      <td>0</td>\n",
              "      <td>0</td>\n",
              "      <td>0</td>\n",
              "      <td>0.91</td>\n",
              "      <td>0.51</td>\n",
              "      <td>0.52</td>\n",
              "      <td>1.77</td>\n",
              "      <td>1.02</td>\n",
              "    </tr>\n",
              "  </tbody>\n",
              "</table>\n",
              "</div>"
            ],
            "text/plain": [
              "                 competitorname  chocolate  fruity  caramel  peanutyalmondy  \\\n",
              "68                    Starburst          0       1        0               0   \n",
              "60            Skittles original          0       1        0               0   \n",
              "66              Sour Patch Kids          0       1        0               0   \n",
              "18            Haribo Gold Bears          0       1        0               0   \n",
              "41                        Nerds          0       1        0               0   \n",
              "61           Skittles wildberry          0       1        0               0   \n",
              "73                 Swedish Fish          0       1        0               0   \n",
              "31  Lifesavers big ring gummies          0       1        0               0   \n",
              "67        Sour Patch Tricksters          0       1        0               0   \n",
              "4                     Air Heads          0       1        0               0   \n",
              "\n",
              "    nougat  crispedricewafer  hard  bar  pluribus  sugarpercent  pricepercent  \\\n",
              "68       0                 0     0    0         1          0.15          0.22   \n",
              "60       0                 0     0    0         1          0.94          0.22   \n",
              "66       0                 0     0    0         1          0.07          0.12   \n",
              "18       0                 0     0    0         1          0.47          0.47   \n",
              "41       0                 0     1    0         1          0.85          0.32   \n",
              "61       0                 0     0    0         1          0.94          0.22   \n",
              "73       0                 0     0    0         1          0.60          0.76   \n",
              "31       0                 0     0    0         0          0.27          0.28   \n",
              "67       0                 0     0    0         1          0.07          0.12   \n",
              "4        0                 0     0    0         0          0.91          0.51   \n",
              "\n",
              "    winpercent  sugarbyprice  winbyprice  \n",
              "68        0.67          0.69        3.05  \n",
              "60        0.63          4.28        2.87  \n",
              "66        0.60          0.59        5.16  \n",
              "18        0.57          1.00        1.23  \n",
              "41        0.55          2.61        1.70  \n",
              "61        0.55          4.28        2.50  \n",
              "73        0.55          0.80        0.73  \n",
              "31        0.53          0.96        1.90  \n",
              "67        0.53          0.59        4.55  \n",
              "4         0.52          1.77        1.02  "
            ]
          },
          "metadata": {
            "tags": []
          },
          "execution_count": 15
        }
      ]
    },
    {
      "cell_type": "markdown",
      "metadata": {
        "colab_type": "text",
        "id": "7VTAP-5FVfkE"
      },
      "source": [
        "__Sour Patch Kids__ has a high __`winbyprice`__. They are __cheap__ as well as a __favourite__."
      ]
    },
    {
      "cell_type": "markdown",
      "metadata": {
        "colab_type": "text",
        "id": "K2mCRSrbVfkF"
      },
      "source": [
        "__3. Top `winbyprice` competitors.__"
      ]
    },
    {
      "cell_type": "code",
      "metadata": {
        "colab_type": "code",
        "id": "Y1ONsl9qVfkF",
        "outputId": "282be9a0-bfa6-4fca-f305-eb3d9e1ab7e7",
        "colab": {
          "base_uri": "https://localhost:8080/",
          "height": 430
        }
      },
      "source": [
        "df.sort_values(by=['winbyprice', 'winpercent'], ascending=False).head(10)\n",
        "   "
      ],
      "execution_count": 0,
      "outputs": [
        {
          "output_type": "execute_result",
          "data": {
            "text/html": [
              "<div>\n",
              "<style scoped>\n",
              "    .dataframe tbody tr th:only-of-type {\n",
              "        vertical-align: middle;\n",
              "    }\n",
              "\n",
              "    .dataframe tbody tr th {\n",
              "        vertical-align: top;\n",
              "    }\n",
              "\n",
              "    .dataframe thead th {\n",
              "        text-align: right;\n",
              "    }\n",
              "</style>\n",
              "<table border=\"1\" class=\"dataframe\">\n",
              "  <thead>\n",
              "    <tr style=\"text-align: right;\">\n",
              "      <th></th>\n",
              "      <th>competitorname</th>\n",
              "      <th>chocolate</th>\n",
              "      <th>fruity</th>\n",
              "      <th>caramel</th>\n",
              "      <th>peanutyalmondy</th>\n",
              "      <th>nougat</th>\n",
              "      <th>crispedricewafer</th>\n",
              "      <th>hard</th>\n",
              "      <th>bar</th>\n",
              "      <th>pluribus</th>\n",
              "      <th>sugarpercent</th>\n",
              "      <th>pricepercent</th>\n",
              "      <th>winpercent</th>\n",
              "      <th>sugarbyprice</th>\n",
              "      <th>winbyprice</th>\n",
              "    </tr>\n",
              "  </thead>\n",
              "  <tbody>\n",
              "    <tr>\n",
              "      <th>76</th>\n",
              "      <td>Tootsie Roll Midgies</td>\n",
              "      <td>1</td>\n",
              "      <td>0</td>\n",
              "      <td>0</td>\n",
              "      <td>0</td>\n",
              "      <td>0</td>\n",
              "      <td>0</td>\n",
              "      <td>0</td>\n",
              "      <td>0</td>\n",
              "      <td>1</td>\n",
              "      <td>0.17</td>\n",
              "      <td>0.01</td>\n",
              "      <td>0.46</td>\n",
              "      <td>15.82</td>\n",
              "      <td>41.58</td>\n",
              "    </tr>\n",
              "    <tr>\n",
              "      <th>48</th>\n",
              "      <td>Pixie Sticks</td>\n",
              "      <td>0</td>\n",
              "      <td>0</td>\n",
              "      <td>0</td>\n",
              "      <td>0</td>\n",
              "      <td>0</td>\n",
              "      <td>0</td>\n",
              "      <td>0</td>\n",
              "      <td>0</td>\n",
              "      <td>1</td>\n",
              "      <td>0.09</td>\n",
              "      <td>0.02</td>\n",
              "      <td>0.38</td>\n",
              "      <td>4.04</td>\n",
              "      <td>16.40</td>\n",
              "    </tr>\n",
              "    <tr>\n",
              "      <th>15</th>\n",
              "      <td>Fruit Chews</td>\n",
              "      <td>0</td>\n",
              "      <td>1</td>\n",
              "      <td>0</td>\n",
              "      <td>0</td>\n",
              "      <td>0</td>\n",
              "      <td>0</td>\n",
              "      <td>0</td>\n",
              "      <td>0</td>\n",
              "      <td>1</td>\n",
              "      <td>0.13</td>\n",
              "      <td>0.03</td>\n",
              "      <td>0.43</td>\n",
              "      <td>3.74</td>\n",
              "      <td>12.67</td>\n",
              "    </tr>\n",
              "    <tr>\n",
              "      <th>14</th>\n",
              "      <td>Dum Dums</td>\n",
              "      <td>0</td>\n",
              "      <td>1</td>\n",
              "      <td>0</td>\n",
              "      <td>0</td>\n",
              "      <td>0</td>\n",
              "      <td>0</td>\n",
              "      <td>1</td>\n",
              "      <td>0</td>\n",
              "      <td>0</td>\n",
              "      <td>0.73</td>\n",
              "      <td>0.03</td>\n",
              "      <td>0.39</td>\n",
              "      <td>21.53</td>\n",
              "      <td>11.61</td>\n",
              "    </tr>\n",
              "    <tr>\n",
              "      <th>69</th>\n",
              "      <td>Strawberry bon bons</td>\n",
              "      <td>0</td>\n",
              "      <td>1</td>\n",
              "      <td>0</td>\n",
              "      <td>0</td>\n",
              "      <td>0</td>\n",
              "      <td>0</td>\n",
              "      <td>1</td>\n",
              "      <td>0</td>\n",
              "      <td>1</td>\n",
              "      <td>0.57</td>\n",
              "      <td>0.06</td>\n",
              "      <td>0.35</td>\n",
              "      <td>9.81</td>\n",
              "      <td>5.96</td>\n",
              "    </tr>\n",
              "    <tr>\n",
              "      <th>22</th>\n",
              "      <td>Hershey's Kisses</td>\n",
              "      <td>1</td>\n",
              "      <td>0</td>\n",
              "      <td>0</td>\n",
              "      <td>0</td>\n",
              "      <td>0</td>\n",
              "      <td>0</td>\n",
              "      <td>0</td>\n",
              "      <td>0</td>\n",
              "      <td>1</td>\n",
              "      <td>0.13</td>\n",
              "      <td>0.09</td>\n",
              "      <td>0.55</td>\n",
              "      <td>1.37</td>\n",
              "      <td>5.95</td>\n",
              "    </tr>\n",
              "    <tr>\n",
              "      <th>66</th>\n",
              "      <td>Sour Patch Kids</td>\n",
              "      <td>0</td>\n",
              "      <td>1</td>\n",
              "      <td>0</td>\n",
              "      <td>0</td>\n",
              "      <td>0</td>\n",
              "      <td>0</td>\n",
              "      <td>0</td>\n",
              "      <td>0</td>\n",
              "      <td>1</td>\n",
              "      <td>0.07</td>\n",
              "      <td>0.12</td>\n",
              "      <td>0.60</td>\n",
              "      <td>0.59</td>\n",
              "      <td>5.16</td>\n",
              "    </tr>\n",
              "    <tr>\n",
              "      <th>67</th>\n",
              "      <td>Sour Patch Tricksters</td>\n",
              "      <td>0</td>\n",
              "      <td>1</td>\n",
              "      <td>0</td>\n",
              "      <td>0</td>\n",
              "      <td>0</td>\n",
              "      <td>0</td>\n",
              "      <td>0</td>\n",
              "      <td>0</td>\n",
              "      <td>1</td>\n",
              "      <td>0.07</td>\n",
              "      <td>0.12</td>\n",
              "      <td>0.53</td>\n",
              "      <td>0.59</td>\n",
              "      <td>4.55</td>\n",
              "    </tr>\n",
              "    <tr>\n",
              "      <th>57</th>\n",
              "      <td>Root Beer Barrels</td>\n",
              "      <td>0</td>\n",
              "      <td>0</td>\n",
              "      <td>0</td>\n",
              "      <td>0</td>\n",
              "      <td>0</td>\n",
              "      <td>0</td>\n",
              "      <td>1</td>\n",
              "      <td>0</td>\n",
              "      <td>1</td>\n",
              "      <td>0.73</td>\n",
              "      <td>0.07</td>\n",
              "      <td>0.30</td>\n",
              "      <td>10.61</td>\n",
              "      <td>4.30</td>\n",
              "    </tr>\n",
              "    <tr>\n",
              "      <th>59</th>\n",
              "      <td>Sixlets</td>\n",
              "      <td>1</td>\n",
              "      <td>0</td>\n",
              "      <td>0</td>\n",
              "      <td>0</td>\n",
              "      <td>0</td>\n",
              "      <td>0</td>\n",
              "      <td>0</td>\n",
              "      <td>0</td>\n",
              "      <td>1</td>\n",
              "      <td>0.22</td>\n",
              "      <td>0.08</td>\n",
              "      <td>0.35</td>\n",
              "      <td>2.72</td>\n",
              "      <td>4.29</td>\n",
              "    </tr>\n",
              "  </tbody>\n",
              "</table>\n",
              "</div>"
            ],
            "text/plain": [
              "           competitorname  chocolate  fruity  caramel  peanutyalmondy  nougat  \\\n",
              "76   Tootsie Roll Midgies          1       0        0               0       0   \n",
              "48           Pixie Sticks          0       0        0               0       0   \n",
              "15            Fruit Chews          0       1        0               0       0   \n",
              "14               Dum Dums          0       1        0               0       0   \n",
              "69    Strawberry bon bons          0       1        0               0       0   \n",
              "22       Hershey's Kisses          1       0        0               0       0   \n",
              "66        Sour Patch Kids          0       1        0               0       0   \n",
              "67  Sour Patch Tricksters          0       1        0               0       0   \n",
              "57      Root Beer Barrels          0       0        0               0       0   \n",
              "59                Sixlets          1       0        0               0       0   \n",
              "\n",
              "    crispedricewafer  hard  bar  pluribus  sugarpercent  pricepercent  \\\n",
              "76                 0     0    0         1          0.17          0.01   \n",
              "48                 0     0    0         1          0.09          0.02   \n",
              "15                 0     0    0         1          0.13          0.03   \n",
              "14                 0     1    0         0          0.73          0.03   \n",
              "69                 0     1    0         1          0.57          0.06   \n",
              "22                 0     0    0         1          0.13          0.09   \n",
              "66                 0     0    0         1          0.07          0.12   \n",
              "67                 0     0    0         1          0.07          0.12   \n",
              "57                 0     1    0         1          0.73          0.07   \n",
              "59                 0     0    0         1          0.22          0.08   \n",
              "\n",
              "    winpercent  sugarbyprice  winbyprice  \n",
              "76        0.46         15.82       41.58  \n",
              "48        0.38          4.04       16.40  \n",
              "15        0.43          3.74       12.67  \n",
              "14        0.39         21.53       11.61  \n",
              "69        0.35          9.81        5.96  \n",
              "22        0.55          1.37        5.95  \n",
              "66        0.60          0.59        5.16  \n",
              "67        0.53          0.59        4.55  \n",
              "57        0.30         10.61        4.30  \n",
              "59        0.35          2.72        4.29  "
            ]
          },
          "metadata": {
            "tags": []
          },
          "execution_count": 16
        }
      ]
    },
    {
      "cell_type": "markdown",
      "metadata": {
        "colab_type": "text",
        "id": "F--TUtA7VfkL"
      },
      "source": [
        "__Tootsie Roll Midgies__ seems to give value for money with respect to pricepercent."
      ]
    },
    {
      "cell_type": "markdown",
      "metadata": {
        "colab_type": "text",
        "id": "peT4YZumVfkM"
      },
      "source": [
        "__4. Top 10 sugary candies.__"
      ]
    },
    {
      "cell_type": "code",
      "metadata": {
        "colab_type": "code",
        "id": "AF9fOe7MVfkN",
        "outputId": "566facd6-fcca-4ef5-bbef-e23d6f4fb124",
        "colab": {
          "base_uri": "https://localhost:8080/",
          "height": 413
        }
      },
      "source": [
        "df.sort_values(by=['sugarpercent', 'winpercent'], ascending=False).head(10)"
      ],
      "execution_count": 0,
      "outputs": [
        {
          "output_type": "execute_result",
          "data": {
            "text/html": [
              "<div>\n",
              "<style scoped>\n",
              "    .dataframe tbody tr th:only-of-type {\n",
              "        vertical-align: middle;\n",
              "    }\n",
              "\n",
              "    .dataframe tbody tr th {\n",
              "        vertical-align: top;\n",
              "    }\n",
              "\n",
              "    .dataframe thead th {\n",
              "        text-align: right;\n",
              "    }\n",
              "</style>\n",
              "<table border=\"1\" class=\"dataframe\">\n",
              "  <thead>\n",
              "    <tr style=\"text-align: right;\">\n",
              "      <th></th>\n",
              "      <th>competitorname</th>\n",
              "      <th>chocolate</th>\n",
              "      <th>fruity</th>\n",
              "      <th>caramel</th>\n",
              "      <th>peanutyalmondy</th>\n",
              "      <th>nougat</th>\n",
              "      <th>crispedricewafer</th>\n",
              "      <th>hard</th>\n",
              "      <th>bar</th>\n",
              "      <th>pluribus</th>\n",
              "      <th>sugarpercent</th>\n",
              "      <th>pricepercent</th>\n",
              "      <th>winpercent</th>\n",
              "      <th>sugarbyprice</th>\n",
              "      <th>winbyprice</th>\n",
              "    </tr>\n",
              "  </thead>\n",
              "  <tbody>\n",
              "    <tr>\n",
              "      <th>54</th>\n",
              "      <td>Reese's stuffed with pieces</td>\n",
              "      <td>1</td>\n",
              "      <td>0</td>\n",
              "      <td>0</td>\n",
              "      <td>1</td>\n",
              "      <td>0</td>\n",
              "      <td>0</td>\n",
              "      <td>0</td>\n",
              "      <td>0</td>\n",
              "      <td>0</td>\n",
              "      <td>0.99</td>\n",
              "      <td>0.65</td>\n",
              "      <td>0.73</td>\n",
              "      <td>1.52</td>\n",
              "      <td>1.12</td>\n",
              "    </tr>\n",
              "    <tr>\n",
              "      <th>38</th>\n",
              "      <td>Milky Way Simply Caramel</td>\n",
              "      <td>1</td>\n",
              "      <td>0</td>\n",
              "      <td>1</td>\n",
              "      <td>0</td>\n",
              "      <td>0</td>\n",
              "      <td>0</td>\n",
              "      <td>0</td>\n",
              "      <td>1</td>\n",
              "      <td>0</td>\n",
              "      <td>0.96</td>\n",
              "      <td>0.86</td>\n",
              "      <td>0.64</td>\n",
              "      <td>1.12</td>\n",
              "      <td>0.75</td>\n",
              "    </tr>\n",
              "    <tr>\n",
              "      <th>70</th>\n",
              "      <td>Sugar Babies</td>\n",
              "      <td>0</td>\n",
              "      <td>0</td>\n",
              "      <td>1</td>\n",
              "      <td>0</td>\n",
              "      <td>0</td>\n",
              "      <td>0</td>\n",
              "      <td>0</td>\n",
              "      <td>0</td>\n",
              "      <td>1</td>\n",
              "      <td>0.96</td>\n",
              "      <td>0.77</td>\n",
              "      <td>0.33</td>\n",
              "      <td>1.26</td>\n",
              "      <td>0.44</td>\n",
              "    </tr>\n",
              "    <tr>\n",
              "      <th>60</th>\n",
              "      <td>Skittles original</td>\n",
              "      <td>0</td>\n",
              "      <td>1</td>\n",
              "      <td>0</td>\n",
              "      <td>0</td>\n",
              "      <td>0</td>\n",
              "      <td>0</td>\n",
              "      <td>0</td>\n",
              "      <td>0</td>\n",
              "      <td>1</td>\n",
              "      <td>0.94</td>\n",
              "      <td>0.22</td>\n",
              "      <td>0.63</td>\n",
              "      <td>4.28</td>\n",
              "      <td>2.87</td>\n",
              "    </tr>\n",
              "    <tr>\n",
              "      <th>61</th>\n",
              "      <td>Skittles wildberry</td>\n",
              "      <td>0</td>\n",
              "      <td>1</td>\n",
              "      <td>0</td>\n",
              "      <td>0</td>\n",
              "      <td>0</td>\n",
              "      <td>0</td>\n",
              "      <td>0</td>\n",
              "      <td>0</td>\n",
              "      <td>1</td>\n",
              "      <td>0.94</td>\n",
              "      <td>0.22</td>\n",
              "      <td>0.55</td>\n",
              "      <td>4.28</td>\n",
              "      <td>2.50</td>\n",
              "    </tr>\n",
              "    <tr>\n",
              "      <th>4</th>\n",
              "      <td>Air Heads</td>\n",
              "      <td>0</td>\n",
              "      <td>1</td>\n",
              "      <td>0</td>\n",
              "      <td>0</td>\n",
              "      <td>0</td>\n",
              "      <td>0</td>\n",
              "      <td>0</td>\n",
              "      <td>0</td>\n",
              "      <td>0</td>\n",
              "      <td>0.91</td>\n",
              "      <td>0.51</td>\n",
              "      <td>0.52</td>\n",
              "      <td>1.77</td>\n",
              "      <td>1.02</td>\n",
              "    </tr>\n",
              "    <tr>\n",
              "      <th>17</th>\n",
              "      <td>Gobstopper</td>\n",
              "      <td>0</td>\n",
              "      <td>1</td>\n",
              "      <td>0</td>\n",
              "      <td>0</td>\n",
              "      <td>0</td>\n",
              "      <td>0</td>\n",
              "      <td>1</td>\n",
              "      <td>0</td>\n",
              "      <td>1</td>\n",
              "      <td>0.91</td>\n",
              "      <td>0.45</td>\n",
              "      <td>0.47</td>\n",
              "      <td>2.00</td>\n",
              "      <td>1.03</td>\n",
              "    </tr>\n",
              "    <tr>\n",
              "      <th>8</th>\n",
              "      <td>Candy Corn</td>\n",
              "      <td>0</td>\n",
              "      <td>0</td>\n",
              "      <td>0</td>\n",
              "      <td>0</td>\n",
              "      <td>0</td>\n",
              "      <td>0</td>\n",
              "      <td>0</td>\n",
              "      <td>0</td>\n",
              "      <td>1</td>\n",
              "      <td>0.91</td>\n",
              "      <td>0.32</td>\n",
              "      <td>0.38</td>\n",
              "      <td>2.79</td>\n",
              "      <td>1.17</td>\n",
              "    </tr>\n",
              "    <tr>\n",
              "      <th>84</th>\n",
              "      <td>Whoppers</td>\n",
              "      <td>1</td>\n",
              "      <td>0</td>\n",
              "      <td>0</td>\n",
              "      <td>0</td>\n",
              "      <td>0</td>\n",
              "      <td>1</td>\n",
              "      <td>0</td>\n",
              "      <td>0</td>\n",
              "      <td>1</td>\n",
              "      <td>0.87</td>\n",
              "      <td>0.85</td>\n",
              "      <td>0.50</td>\n",
              "      <td>1.03</td>\n",
              "      <td>0.58</td>\n",
              "    </tr>\n",
              "    <tr>\n",
              "      <th>34</th>\n",
              "      <td>Mike &amp; Ike</td>\n",
              "      <td>0</td>\n",
              "      <td>1</td>\n",
              "      <td>0</td>\n",
              "      <td>0</td>\n",
              "      <td>0</td>\n",
              "      <td>0</td>\n",
              "      <td>0</td>\n",
              "      <td>0</td>\n",
              "      <td>1</td>\n",
              "      <td>0.87</td>\n",
              "      <td>0.32</td>\n",
              "      <td>0.46</td>\n",
              "      <td>2.68</td>\n",
              "      <td>1.43</td>\n",
              "    </tr>\n",
              "  </tbody>\n",
              "</table>\n",
              "</div>"
            ],
            "text/plain": [
              "                 competitorname  chocolate  fruity  caramel  peanutyalmondy  \\\n",
              "54  Reese's stuffed with pieces          1       0        0               1   \n",
              "38     Milky Way Simply Caramel          1       0        1               0   \n",
              "70                 Sugar Babies          0       0        1               0   \n",
              "60            Skittles original          0       1        0               0   \n",
              "61           Skittles wildberry          0       1        0               0   \n",
              "4                     Air Heads          0       1        0               0   \n",
              "17                   Gobstopper          0       1        0               0   \n",
              "8                    Candy Corn          0       0        0               0   \n",
              "84                     Whoppers          1       0        0               0   \n",
              "34                   Mike & Ike          0       1        0               0   \n",
              "\n",
              "    nougat  crispedricewafer  hard  bar  pluribus  sugarpercent  pricepercent  \\\n",
              "54       0                 0     0    0         0          0.99          0.65   \n",
              "38       0                 0     0    1         0          0.96          0.86   \n",
              "70       0                 0     0    0         1          0.96          0.77   \n",
              "60       0                 0     0    0         1          0.94          0.22   \n",
              "61       0                 0     0    0         1          0.94          0.22   \n",
              "4        0                 0     0    0         0          0.91          0.51   \n",
              "17       0                 0     1    0         1          0.91          0.45   \n",
              "8        0                 0     0    0         1          0.91          0.32   \n",
              "84       0                 1     0    0         1          0.87          0.85   \n",
              "34       0                 0     0    0         1          0.87          0.32   \n",
              "\n",
              "    winpercent  sugarbyprice  winbyprice  \n",
              "54        0.73          1.52        1.12  \n",
              "38        0.64          1.12        0.75  \n",
              "70        0.33          1.26        0.44  \n",
              "60        0.63          4.28        2.87  \n",
              "61        0.55          4.28        2.50  \n",
              "4         0.52          1.77        1.02  \n",
              "17        0.47          2.00        1.03  \n",
              "8         0.38          2.79        1.17  \n",
              "84        0.50          1.03        0.58  \n",
              "34        0.46          2.68        1.43  "
            ]
          },
          "metadata": {
            "tags": []
          },
          "execution_count": 17
        }
      ]
    },
    {
      "cell_type": "markdown",
      "metadata": {
        "colab_type": "text",
        "id": "n0bkdgDSVfkT"
      },
      "source": [
        " __5. Which candies are both chocolaty as well as fruity?__\n",
        " "
      ]
    },
    {
      "cell_type": "code",
      "metadata": {
        "colab_type": "code",
        "id": "RfxZEi5bVfkU",
        "outputId": "c1d5213b-9352-4e3d-f4c9-a239046f43b3",
        "colab": {
          "base_uri": "https://localhost:8080/",
          "height": 100
        }
      },
      "source": [
        "df[(df['chocolate']==1)&(df['fruity']==1)]"
      ],
      "execution_count": 0,
      "outputs": [
        {
          "output_type": "execute_result",
          "data": {
            "text/html": [
              "<div>\n",
              "<style scoped>\n",
              "    .dataframe tbody tr th:only-of-type {\n",
              "        vertical-align: middle;\n",
              "    }\n",
              "\n",
              "    .dataframe tbody tr th {\n",
              "        vertical-align: top;\n",
              "    }\n",
              "\n",
              "    .dataframe thead th {\n",
              "        text-align: right;\n",
              "    }\n",
              "</style>\n",
              "<table border=\"1\" class=\"dataframe\">\n",
              "  <thead>\n",
              "    <tr style=\"text-align: right;\">\n",
              "      <th></th>\n",
              "      <th>competitorname</th>\n",
              "      <th>chocolate</th>\n",
              "      <th>fruity</th>\n",
              "      <th>caramel</th>\n",
              "      <th>peanutyalmondy</th>\n",
              "      <th>nougat</th>\n",
              "      <th>crispedricewafer</th>\n",
              "      <th>hard</th>\n",
              "      <th>bar</th>\n",
              "      <th>pluribus</th>\n",
              "      <th>sugarpercent</th>\n",
              "      <th>pricepercent</th>\n",
              "      <th>winpercent</th>\n",
              "      <th>sugarbyprice</th>\n",
              "      <th>winbyprice</th>\n",
              "    </tr>\n",
              "  </thead>\n",
              "  <tbody>\n",
              "    <tr>\n",
              "      <th>74</th>\n",
              "      <td>Tootsie Pop</td>\n",
              "      <td>1</td>\n",
              "      <td>1</td>\n",
              "      <td>0</td>\n",
              "      <td>0</td>\n",
              "      <td>0</td>\n",
              "      <td>0</td>\n",
              "      <td>1</td>\n",
              "      <td>0</td>\n",
              "      <td>0</td>\n",
              "      <td>0.6</td>\n",
              "      <td>0.32</td>\n",
              "      <td>0.49</td>\n",
              "      <td>1.86</td>\n",
              "      <td>1.51</td>\n",
              "    </tr>\n",
              "  </tbody>\n",
              "</table>\n",
              "</div>"
            ],
            "text/plain": [
              "   competitorname  chocolate  fruity  caramel  peanutyalmondy  nougat  \\\n",
              "74    Tootsie Pop          1       1        0               0       0   \n",
              "\n",
              "    crispedricewafer  hard  bar  pluribus  sugarpercent  pricepercent  \\\n",
              "74                 0     1    0         0           0.6          0.32   \n",
              "\n",
              "    winpercent  sugarbyprice  winbyprice  \n",
              "74        0.49          1.86        1.51  "
            ]
          },
          "metadata": {
            "tags": []
          },
          "execution_count": 54
        }
      ]
    },
    {
      "cell_type": "markdown",
      "metadata": {
        "colab_type": "text",
        "id": "0jSBFJpZVfkY"
      },
      "source": [
        "## **Correlation Heatmap**"
      ]
    },
    {
      "cell_type": "code",
      "metadata": {
        "colab_type": "code",
        "id": "EDAY3j5_VfkZ",
        "outputId": "a4fba800-45a8-41b5-97c4-806ddf829e2e",
        "colab": {
          "base_uri": "https://localhost:8080/",
          "height": 34
        }
      },
      "source": [
        "# plt.figure(figsize = (30,10))        \n",
        "# sns.heatmap(df.corr(),annot=True, cmap = 'coolwarm')\n",
        "  \n",
        "\n",
        "plt.figure(figsize=(10,10))\n",
        "sns.heatmap(df.corr(), vmax=.8,linewidth=.01, square = True, annot = True,cmap='YlGnBu',linecolor ='black')\n",
        "plt.title('Correlation between features')"
      ],
      "execution_count": 0,
      "outputs": [
        {
          "output_type": "execute_result",
          "data": {
            "text/plain": [
              "<matplotlib.text.Text at 0x7ff5d0241160>"
            ]
          },
          "metadata": {
            "tags": []
          },
          "execution_count": 16
        }
      ]
    },
    {
      "cell_type": "code",
      "metadata": {
        "id": "qu76_HUCImQa",
        "colab_type": "code",
        "outputId": "86b7dd6b-afad-49ff-c4b8-8da9705c4752",
        "colab": {}
      },
      "source": [
        "plt.show()"
      ],
      "execution_count": 0,
      "outputs": [
        {
          "output_type": "display_data",
          "data": {
            "image/png": "[encoded data removed]",
            "text/plain": [
              "<matplotlib.figure.Figure at 0x7ff5d80cd9b0>"
            ]
          },
          "metadata": {
            "tags": []
          }
        }
      ]
    },
    {
      "cell_type": "markdown",
      "metadata": {
        "colab_type": "text",
        "id": "A1qqLS2EVfkg"
      },
      "source": [
        " ### Observations: \n",
        "    The above heatmap illustrates the points mentioned below: \n",
        "        - The chocolate flavoured and bar type have higher correlation with winpercent\n",
        "        - The chocolate flavoured is most likely bar.\n",
        "        - The chocolate bar has higher pricepercent\n",
        "        - High negative corelation : if it is chocolate bar the chance of it being hard is unlikely.\n",
        "        - The caramel does not make much difference to winpercent\n",
        "        - The peanutyalmondy has poitive correlation with winpercent.\n",
        "        - The hard candies have -ve correlation wrt winpercent.\n",
        "        - The price percent has positive correlation with winpercent.\n",
        "        - If it's a chocolate or bar , its not fruity\n",
        "        - If it's fruity flavoured, winpercent and price goes down      \n",
        "        - The candies like pluribus does not make difference to winpercent"
      ]
    },
    {
      "cell_type": "markdown",
      "metadata": {
        "colab_type": "text",
        "id": "qB8vsq9dNe9f"
      },
      "source": [
        "There are no features with 0 and null values . No Pre-processing required."
      ]
    },
    {
      "cell_type": "markdown",
      "metadata": {
        "colab_type": "text",
        "id": "CQr4sWbkVfmS"
      },
      "source": [
        "## Predicting the win percentage."
      ]
    },
    {
      "cell_type": "code",
      "metadata": {
        "colab_type": "code",
        "id": "KH-vxjLxNAwp",
        "outputId": "0f9430e0-2eef-4e19-b394-147cea3a6557",
        "colab": {
          "base_uri": "https://localhost:8080/",
          "height": 224
        }
      },
      "source": [
        "#load dataset without derived columns\n",
        "candy = pd.read_csv('https://raw.githubusercontent.com/insaid2018/Term-2/master/Projects/candy-data.csv')\n",
        "candy.head()"
      ],
      "execution_count": 0,
      "outputs": [
        {
          "output_type": "execute_result",
          "data": {
            "text/html": [
              "<div>\n",
              "<style scoped>\n",
              "    .dataframe tbody tr th:only-of-type {\n",
              "        vertical-align: middle;\n",
              "    }\n",
              "\n",
              "    .dataframe tbody tr th {\n",
              "        vertical-align: top;\n",
              "    }\n",
              "\n",
              "    .dataframe thead th {\n",
              "        text-align: right;\n",
              "    }\n",
              "</style>\n",
              "<table border=\"1\" class=\"dataframe\">\n",
              "  <thead>\n",
              "    <tr style=\"text-align: right;\">\n",
              "      <th></th>\n",
              "      <th>competitorname</th>\n",
              "      <th>chocolate</th>\n",
              "      <th>fruity</th>\n",
              "      <th>caramel</th>\n",
              "      <th>peanutyalmondy</th>\n",
              "      <th>nougat</th>\n",
              "      <th>crispedricewafer</th>\n",
              "      <th>hard</th>\n",
              "      <th>bar</th>\n",
              "      <th>pluribus</th>\n",
              "      <th>sugarpercent</th>\n",
              "      <th>pricepercent</th>\n",
              "      <th>winpercent</th>\n",
              "    </tr>\n",
              "  </thead>\n",
              "  <tbody>\n",
              "    <tr>\n",
              "      <th>0</th>\n",
              "      <td>100 Grand</td>\n",
              "      <td>1</td>\n",
              "      <td>0</td>\n",
              "      <td>1</td>\n",
              "      <td>0</td>\n",
              "      <td>0</td>\n",
              "      <td>1</td>\n",
              "      <td>0</td>\n",
              "      <td>1</td>\n",
              "      <td>0</td>\n",
              "      <td>0.73</td>\n",
              "      <td>0.86</td>\n",
              "      <td>66.97</td>\n",
              "    </tr>\n",
              "    <tr>\n",
              "      <th>1</th>\n",
              "      <td>3 Musketeers</td>\n",
              "      <td>1</td>\n",
              "      <td>0</td>\n",
              "      <td>0</td>\n",
              "      <td>0</td>\n",
              "      <td>1</td>\n",
              "      <td>0</td>\n",
              "      <td>0</td>\n",
              "      <td>1</td>\n",
              "      <td>0</td>\n",
              "      <td>0.60</td>\n",
              "      <td>0.51</td>\n",
              "      <td>67.60</td>\n",
              "    </tr>\n",
              "    <tr>\n",
              "      <th>2</th>\n",
              "      <td>One dime</td>\n",
              "      <td>0</td>\n",
              "      <td>0</td>\n",
              "      <td>0</td>\n",
              "      <td>0</td>\n",
              "      <td>0</td>\n",
              "      <td>0</td>\n",
              "      <td>0</td>\n",
              "      <td>0</td>\n",
              "      <td>0</td>\n",
              "      <td>0.01</td>\n",
              "      <td>0.12</td>\n",
              "      <td>32.26</td>\n",
              "    </tr>\n",
              "    <tr>\n",
              "      <th>3</th>\n",
              "      <td>One quarter</td>\n",
              "      <td>0</td>\n",
              "      <td>0</td>\n",
              "      <td>0</td>\n",
              "      <td>0</td>\n",
              "      <td>0</td>\n",
              "      <td>0</td>\n",
              "      <td>0</td>\n",
              "      <td>0</td>\n",
              "      <td>0</td>\n",
              "      <td>0.01</td>\n",
              "      <td>0.51</td>\n",
              "      <td>46.12</td>\n",
              "    </tr>\n",
              "    <tr>\n",
              "      <th>4</th>\n",
              "      <td>Air Heads</td>\n",
              "      <td>0</td>\n",
              "      <td>1</td>\n",
              "      <td>0</td>\n",
              "      <td>0</td>\n",
              "      <td>0</td>\n",
              "      <td>0</td>\n",
              "      <td>0</td>\n",
              "      <td>0</td>\n",
              "      <td>0</td>\n",
              "      <td>0.91</td>\n",
              "      <td>0.51</td>\n",
              "      <td>52.34</td>\n",
              "    </tr>\n",
              "  </tbody>\n",
              "</table>\n",
              "</div>"
            ],
            "text/plain": [
              "  competitorname  chocolate  fruity  caramel  peanutyalmondy  nougat  \\\n",
              "0      100 Grand          1       0        1               0       0   \n",
              "1   3 Musketeers          1       0        0               0       1   \n",
              "2       One dime          0       0        0               0       0   \n",
              "3    One quarter          0       0        0               0       0   \n",
              "4      Air Heads          0       1        0               0       0   \n",
              "\n",
              "   crispedricewafer  hard  bar  pluribus  sugarpercent  pricepercent  \\\n",
              "0                 1     0    1         0          0.73          0.86   \n",
              "1                 0     0    1         0          0.60          0.51   \n",
              "2                 0     0    0         0          0.01          0.12   \n",
              "3                 0     0    0         0          0.01          0.51   \n",
              "4                 0     0    0         0          0.91          0.51   \n",
              "\n",
              "   winpercent  \n",
              "0       66.97  \n",
              "1       67.60  \n",
              "2       32.26  \n",
              "3       46.12  \n",
              "4       52.34  "
            ]
          },
          "metadata": {
            "tags": []
          },
          "execution_count": 29
        }
      ]
    },
    {
      "cell_type": "code",
      "metadata": {
        "colab_type": "code",
        "id": "7tf0lOS-NOLQ",
        "colab": {}
      },
      "source": [
        "import pandas_profiling\n",
        "profile = pandas_profiling.ProfileReport(candy)\n",
        "profile.to_file(outputfile=\"candy_profile.html\")"
      ],
      "execution_count": 0,
      "outputs": []
    },
    {
      "cell_type": "code",
      "metadata": {
        "colab_type": "code",
        "id": "lDhlQDoPN5aR",
        "outputId": "e9670ee5-2c3d-4a98-e1f9-8508a13240bd",
        "colab": {
          "base_uri": "https://localhost:8080/",
          "height": 119
        }
      },
      "source": [
        "# Output variable y\n",
        "y = candy['winpercent']\n",
        "y.head()"
      ],
      "execution_count": 0,
      "outputs": [
        {
          "output_type": "execute_result",
          "data": {
            "text/plain": [
              "0    66.97\n",
              "1    67.60\n",
              "2    32.26\n",
              "3    46.12\n",
              "4    52.34\n",
              "Name: winpercent, dtype: float64"
            ]
          },
          "metadata": {
            "tags": []
          },
          "execution_count": 31
        }
      ]
    },
    {
      "cell_type": "code",
      "metadata": {
        "id": "HaVLj_1cImQy",
        "colab_type": "code",
        "outputId": "e41d7751-e280-4064-df62-60dd9bcbbd8b",
        "colab": {
          "base_uri": "https://localhost:8080/",
          "height": 297
        }
      },
      "source": [
        "candy.describe()"
      ],
      "execution_count": 0,
      "outputs": [
        {
          "output_type": "execute_result",
          "data": {
            "text/html": [
              "<div>\n",
              "<style scoped>\n",
              "    .dataframe tbody tr th:only-of-type {\n",
              "        vertical-align: middle;\n",
              "    }\n",
              "\n",
              "    .dataframe tbody tr th {\n",
              "        vertical-align: top;\n",
              "    }\n",
              "\n",
              "    .dataframe thead th {\n",
              "        text-align: right;\n",
              "    }\n",
              "</style>\n",
              "<table border=\"1\" class=\"dataframe\">\n",
              "  <thead>\n",
              "    <tr style=\"text-align: right;\">\n",
              "      <th></th>\n",
              "      <th>chocolate</th>\n",
              "      <th>fruity</th>\n",
              "      <th>caramel</th>\n",
              "      <th>peanutyalmondy</th>\n",
              "      <th>nougat</th>\n",
              "      <th>crispedricewafer</th>\n",
              "      <th>hard</th>\n",
              "      <th>bar</th>\n",
              "      <th>pluribus</th>\n",
              "      <th>sugarpercent</th>\n",
              "      <th>pricepercent</th>\n",
              "      <th>winpercent</th>\n",
              "    </tr>\n",
              "  </thead>\n",
              "  <tbody>\n",
              "    <tr>\n",
              "      <th>count</th>\n",
              "      <td>85.00</td>\n",
              "      <td>85.00</td>\n",
              "      <td>85.00</td>\n",
              "      <td>85.00</td>\n",
              "      <td>85.00</td>\n",
              "      <td>85.00</td>\n",
              "      <td>85.00</td>\n",
              "      <td>85.00</td>\n",
              "      <td>85.00</td>\n",
              "      <td>85.00</td>\n",
              "      <td>85.00</td>\n",
              "      <td>85.00</td>\n",
              "    </tr>\n",
              "    <tr>\n",
              "      <th>mean</th>\n",
              "      <td>0.44</td>\n",
              "      <td>0.45</td>\n",
              "      <td>0.16</td>\n",
              "      <td>0.16</td>\n",
              "      <td>0.08</td>\n",
              "      <td>0.08</td>\n",
              "      <td>0.18</td>\n",
              "      <td>0.25</td>\n",
              "      <td>0.52</td>\n",
              "      <td>0.48</td>\n",
              "      <td>0.47</td>\n",
              "      <td>50.32</td>\n",
              "    </tr>\n",
              "    <tr>\n",
              "      <th>std</th>\n",
              "      <td>0.50</td>\n",
              "      <td>0.50</td>\n",
              "      <td>0.37</td>\n",
              "      <td>0.37</td>\n",
              "      <td>0.28</td>\n",
              "      <td>0.28</td>\n",
              "      <td>0.38</td>\n",
              "      <td>0.43</td>\n",
              "      <td>0.50</td>\n",
              "      <td>0.28</td>\n",
              "      <td>0.29</td>\n",
              "      <td>14.71</td>\n",
              "    </tr>\n",
              "    <tr>\n",
              "      <th>min</th>\n",
              "      <td>0.00</td>\n",
              "      <td>0.00</td>\n",
              "      <td>0.00</td>\n",
              "      <td>0.00</td>\n",
              "      <td>0.00</td>\n",
              "      <td>0.00</td>\n",
              "      <td>0.00</td>\n",
              "      <td>0.00</td>\n",
              "      <td>0.00</td>\n",
              "      <td>0.01</td>\n",
              "      <td>0.01</td>\n",
              "      <td>22.45</td>\n",
              "    </tr>\n",
              "    <tr>\n",
              "      <th>25%</th>\n",
              "      <td>0.00</td>\n",
              "      <td>0.00</td>\n",
              "      <td>0.00</td>\n",
              "      <td>0.00</td>\n",
              "      <td>0.00</td>\n",
              "      <td>0.00</td>\n",
              "      <td>0.00</td>\n",
              "      <td>0.00</td>\n",
              "      <td>0.00</td>\n",
              "      <td>0.22</td>\n",
              "      <td>0.26</td>\n",
              "      <td>39.14</td>\n",
              "    </tr>\n",
              "    <tr>\n",
              "      <th>50%</th>\n",
              "      <td>0.00</td>\n",
              "      <td>0.00</td>\n",
              "      <td>0.00</td>\n",
              "      <td>0.00</td>\n",
              "      <td>0.00</td>\n",
              "      <td>0.00</td>\n",
              "      <td>0.00</td>\n",
              "      <td>0.00</td>\n",
              "      <td>1.00</td>\n",
              "      <td>0.47</td>\n",
              "      <td>0.47</td>\n",
              "      <td>47.83</td>\n",
              "    </tr>\n",
              "    <tr>\n",
              "      <th>75%</th>\n",
              "      <td>1.00</td>\n",
              "      <td>1.00</td>\n",
              "      <td>0.00</td>\n",
              "      <td>0.00</td>\n",
              "      <td>0.00</td>\n",
              "      <td>0.00</td>\n",
              "      <td>0.00</td>\n",
              "      <td>0.00</td>\n",
              "      <td>1.00</td>\n",
              "      <td>0.73</td>\n",
              "      <td>0.65</td>\n",
              "      <td>59.86</td>\n",
              "    </tr>\n",
              "    <tr>\n",
              "      <th>max</th>\n",
              "      <td>1.00</td>\n",
              "      <td>1.00</td>\n",
              "      <td>1.00</td>\n",
              "      <td>1.00</td>\n",
              "      <td>1.00</td>\n",
              "      <td>1.00</td>\n",
              "      <td>1.00</td>\n",
              "      <td>1.00</td>\n",
              "      <td>1.00</td>\n",
              "      <td>0.99</td>\n",
              "      <td>0.98</td>\n",
              "      <td>84.18</td>\n",
              "    </tr>\n",
              "  </tbody>\n",
              "</table>\n",
              "</div>"
            ],
            "text/plain": [
              "       chocolate  fruity  caramel  peanutyalmondy  nougat  crispedricewafer  \\\n",
              "count      85.00   85.00    85.00           85.00   85.00             85.00   \n",
              "mean        0.44    0.45     0.16            0.16    0.08              0.08   \n",
              "std         0.50    0.50     0.37            0.37    0.28              0.28   \n",
              "min         0.00    0.00     0.00            0.00    0.00              0.00   \n",
              "25%         0.00    0.00     0.00            0.00    0.00              0.00   \n",
              "50%         0.00    0.00     0.00            0.00    0.00              0.00   \n",
              "75%         1.00    1.00     0.00            0.00    0.00              0.00   \n",
              "max         1.00    1.00     1.00            1.00    1.00              1.00   \n",
              "\n",
              "        hard    bar  pluribus  sugarpercent  pricepercent  winpercent  \n",
              "count  85.00  85.00     85.00         85.00         85.00       85.00  \n",
              "mean    0.18   0.25      0.52          0.48          0.47       50.32  \n",
              "std     0.38   0.43      0.50          0.28          0.29       14.71  \n",
              "min     0.00   0.00      0.00          0.01          0.01       22.45  \n",
              "25%     0.00   0.00      0.00          0.22          0.26       39.14  \n",
              "50%     0.00   0.00      1.00          0.47          0.47       47.83  \n",
              "75%     0.00   0.00      1.00          0.73          0.65       59.86  \n",
              "max     1.00   1.00      1.00          0.99          0.98       84.18  "
            ]
          },
          "metadata": {
            "tags": []
          },
          "execution_count": 32
        }
      ]
    },
    {
      "cell_type": "code",
      "metadata": {
        "colab_type": "code",
        "id": "YvsMj4p4MksX",
        "colab": {}
      },
      "source": [
        "from sklearn import metrics\n",
        "def lin_reg(X,y):\n",
        "    from sklearn.model_selection import train_test_split\n",
        "    X_train, X_test, y_train, y_test = train_test_split(X, y, test_size=0.15, random_state=1)\n",
        "    print('Train cases as below')\n",
        "    print('X_train shape: ',X_train.shape)\n",
        "    print('y_train shape: ',y_train.shape)\n",
        "    print('\\nTest cases as below')\n",
        "    print('X_test shape: ',X_test.shape)\n",
        "    print('y_test shape: ',y_test.shape)  \n",
        "    print('\\n')\n",
        "\n",
        "    from sklearn.linear_model import LinearRegression\n",
        "    linreg = LinearRegression()\n",
        "    linreg.fit(X_train, y_train) \n",
        "    y_pred_test = linreg.predict(X_test) \n",
        "    y_pred_train = linreg.predict(X_train) \n",
        "    RMSE_train = np.sqrt( metrics.mean_squared_error(y_train, y_pred_train))\n",
        "    RMSE_test = np.sqrt(metrics.mean_squared_error(y_test, y_pred_test))\n",
        "    print('RMSE for training set is {}'.format(RMSE_train))\n",
        "    print('RMSE for test set is {}'.format(RMSE_test))\n",
        "    print('\\n')\n",
        "    from sklearn.metrics import r2_score\n",
        "    R2_test = r2_score(y_test, y_pred_test)\n",
        "    R2_train = r2_score(y_train, y_pred_train)\n",
        "    print('R-Square for training set is {}'.format(R2_train))\n",
        "    print('R-Square  for test set is {}'.format(R2_test))\n",
        "    print('\\n')\n",
        "    adjusted_r_squared = 1 - (1-R2_test)*(len(y)-1)/(len(y)-X.shape[1]-1)\n",
        "    t_adjusted_r_squared = 1 - (1-R2_train)*(len(y)-1)/(len(y)-X.shape[1]-1)\n",
        "    print('Adjusted R-Square for test set is {}'.format(adjusted_r_squared))\n",
        "    print('Adjusted R-Square  for training set is {}'.format(t_adjusted_r_squared))\n",
        "    print('\\n')\n",
        "\n",
        "    print('Intercept:',linreg.intercept_)          # print the intercept \n",
        "    print('Coefficients:',linreg.coef_)  \n",
        "    print('\\n')\n",
        "\n",
        "    fcols = X.columns.tolist()\n",
        "    fcols.insert(0,'Intercept')\n",
        "    coef = linreg.coef_.tolist()            \n",
        "    coef.insert(0, linreg.intercept_)  \n",
        "\n",
        "    eq1 = zip(fcols, coef)\n",
        "\n",
        "    for c1,c2 in eq1:\n",
        "        print(c1,c2)"
      ],
      "execution_count": 0,
      "outputs": []
    },
    {
      "cell_type": "markdown",
      "metadata": {
        "colab_type": "text",
        "id": "eGHuUprMOCOL"
      },
      "source": [
        "**Run Linear Regression**"
      ]
    },
    {
      "cell_type": "code",
      "metadata": {
        "colab_type": "code",
        "id": "7gXHveeOOHma",
        "outputId": "c1712ee1-d408-47f3-dda2-4c28776d3813",
        "colab": {
          "base_uri": "https://localhost:8080/",
          "height": 204
        }
      },
      "source": [
        "# Ignoring 'competitorname', fruity','nougat','pluribus','sugarpercent','crispedricewafer'\n",
        "X = candy.drop(['winpercent','competitorname','fruity','nougat','pluribus','sugarpercent','crispedricewafer'],axis=1)\n",
        "X.head()\n"
      ],
      "execution_count": 0,
      "outputs": [
        {
          "output_type": "execute_result",
          "data": {
            "text/html": [
              "<div>\n",
              "<style scoped>\n",
              "    .dataframe tbody tr th:only-of-type {\n",
              "        vertical-align: middle;\n",
              "    }\n",
              "\n",
              "    .dataframe tbody tr th {\n",
              "        vertical-align: top;\n",
              "    }\n",
              "\n",
              "    .dataframe thead th {\n",
              "        text-align: right;\n",
              "    }\n",
              "</style>\n",
              "<table border=\"1\" class=\"dataframe\">\n",
              "  <thead>\n",
              "    <tr style=\"text-align: right;\">\n",
              "      <th></th>\n",
              "      <th>chocolate</th>\n",
              "      <th>caramel</th>\n",
              "      <th>peanutyalmondy</th>\n",
              "      <th>hard</th>\n",
              "      <th>bar</th>\n",
              "      <th>pricepercent</th>\n",
              "    </tr>\n",
              "  </thead>\n",
              "  <tbody>\n",
              "    <tr>\n",
              "      <th>0</th>\n",
              "      <td>1</td>\n",
              "      <td>1</td>\n",
              "      <td>0</td>\n",
              "      <td>0</td>\n",
              "      <td>1</td>\n",
              "      <td>0.86</td>\n",
              "    </tr>\n",
              "    <tr>\n",
              "      <th>1</th>\n",
              "      <td>1</td>\n",
              "      <td>0</td>\n",
              "      <td>0</td>\n",
              "      <td>0</td>\n",
              "      <td>1</td>\n",
              "      <td>0.51</td>\n",
              "    </tr>\n",
              "    <tr>\n",
              "      <th>2</th>\n",
              "      <td>0</td>\n",
              "      <td>0</td>\n",
              "      <td>0</td>\n",
              "      <td>0</td>\n",
              "      <td>0</td>\n",
              "      <td>0.12</td>\n",
              "    </tr>\n",
              "    <tr>\n",
              "      <th>3</th>\n",
              "      <td>0</td>\n",
              "      <td>0</td>\n",
              "      <td>0</td>\n",
              "      <td>0</td>\n",
              "      <td>0</td>\n",
              "      <td>0.51</td>\n",
              "    </tr>\n",
              "    <tr>\n",
              "      <th>4</th>\n",
              "      <td>0</td>\n",
              "      <td>0</td>\n",
              "      <td>0</td>\n",
              "      <td>0</td>\n",
              "      <td>0</td>\n",
              "      <td>0.51</td>\n",
              "    </tr>\n",
              "  </tbody>\n",
              "</table>\n",
              "</div>"
            ],
            "text/plain": [
              "   chocolate  caramel  peanutyalmondy  hard  bar  pricepercent\n",
              "0          1        1               0     0    1          0.86\n",
              "1          1        0               0     0    1          0.51\n",
              "2          0        0               0     0    0          0.12\n",
              "3          0        0               0     0    0          0.51\n",
              "4          0        0               0     0    0          0.51"
            ]
          },
          "metadata": {
            "tags": []
          },
          "execution_count": 34
        }
      ]
    },
    {
      "cell_type": "code",
      "metadata": {
        "colab_type": "code",
        "id": "FAGz8F9C5SmR",
        "outputId": "4a65dd6a-a04c-4462-9d19-3d8e35f9dfae",
        "colab": {
          "base_uri": "https://localhost:8080/",
          "height": 119
        }
      },
      "source": [
        "y.head()"
      ],
      "execution_count": 0,
      "outputs": [
        {
          "output_type": "execute_result",
          "data": {
            "text/plain": [
              "0    66.97\n",
              "1    67.60\n",
              "2    32.26\n",
              "3    46.12\n",
              "4    52.34\n",
              "Name: winpercent, dtype: float64"
            ]
          },
          "metadata": {
            "tags": []
          },
          "execution_count": 35
        }
      ]
    },
    {
      "cell_type": "markdown",
      "metadata": {
        "colab_type": "text",
        "id": "RJyuclCX5IgQ"
      },
      "source": [
        "Run Linear regression"
      ]
    },
    {
      "cell_type": "code",
      "metadata": {
        "colab_type": "code",
        "id": "eM6jDVIP1XX9",
        "outputId": "414796cb-b390-42d3-e071-9394def76e55",
        "colab": {
          "base_uri": "https://localhost:8080/",
          "height": 561
        }
      },
      "source": [
        "lin_reg(X,y)"
      ],
      "execution_count": 0,
      "outputs": [
        {
          "output_type": "stream",
          "text": [
            "Train cases as below\n",
            "X_train shape:  (72, 6)\n",
            "y_train shape:  (72,)\n",
            "\n",
            "Test cases as below\n",
            "X_test shape:  (13, 6)\n",
            "y_test shape:  (13,)\n",
            "\n",
            "\n",
            "RMSE for training set is 11.113762215540678\n",
            "RMSE for test set is 9.86981466122024\n",
            "\n",
            "\n",
            "R-Square for training set is 0.4209937243192907\n",
            "R-Square  for test set is 0.5465405090456459\n",
            "\n",
            "\n",
            "Adjusted R-Square for test set is 0.5116590097414648\n",
            "Adjusted R-Square  for training set is 0.3764547800361593\n",
            "\n",
            "\n",
            "Intercept: 42.38022622569661\n",
            "Coefficients: [13.48724176 -0.49624696  7.92216801 -3.30679664  1.76955     2.0825304 ]\n",
            "\n",
            "\n",
            "Intercept 42.38022622569661\n",
            "chocolate 13.48724175953366\n",
            "caramel -0.49624695939802077\n",
            "peanutyalmondy 7.92216801455289\n",
            "hard -3.3067966358154184\n",
            "bar 1.7695499998099526\n",
            "pricepercent 2.082530397388343\n"
          ],
          "name": "stdout"
        }
      ]
    },
    {
      "cell_type": "markdown",
      "metadata": {
        "colab_type": "text",
        "id": "AaNVDYyhTzRW"
      },
      "source": [
        "* Adjusted R-square explains **51% of variance**\n",
        "* Candies which contains **chocolate** has a **coeffient of 13.48**  which is highest; compared to candies with no chocolate . **In Chocolate flavoured candies, chocolate clearly wins.**\n",
        "* Candies which contains **peanutyalmondy** has a **coeffient of 7.92** which is highest; compared to candies with no peanutyalmondy.  In peanutyalmondy falvoured and non-chocolate candies , **peanutyalmondy clearly wins**.\n",
        "* The candies with Caramel,Hard reduces winpercent little bit.\n",
        "* The other columns like Bar, priceprecent does have mild impact on winpercent."
      ]
    },
    {
      "cell_type": "code",
      "metadata": {
        "colab_type": "code",
        "id": "HW2y2gIKTJ6A",
        "outputId": "a805722e-71f2-46d8-ffad-4a59d53f6d1f",
        "colab": {
          "base_uri": "https://localhost:8080/",
          "height": 204
        }
      },
      "source": [
        "# Check for chocolate peanutyalmondy\n",
        "X = candy.drop(['winpercent','fruity','competitorname','nougat','pluribus','sugarpercent','caramel','pricepercent','hard','bar','crispedricewafer'],axis=1)\n",
        "X.head()\n"
      ],
      "execution_count": 0,
      "outputs": [
        {
          "output_type": "execute_result",
          "data": {
            "text/html": [
              "<div>\n",
              "<style scoped>\n",
              "    .dataframe tbody tr th:only-of-type {\n",
              "        vertical-align: middle;\n",
              "    }\n",
              "\n",
              "    .dataframe tbody tr th {\n",
              "        vertical-align: top;\n",
              "    }\n",
              "\n",
              "    .dataframe thead th {\n",
              "        text-align: right;\n",
              "    }\n",
              "</style>\n",
              "<table border=\"1\" class=\"dataframe\">\n",
              "  <thead>\n",
              "    <tr style=\"text-align: right;\">\n",
              "      <th></th>\n",
              "      <th>chocolate</th>\n",
              "      <th>peanutyalmondy</th>\n",
              "    </tr>\n",
              "  </thead>\n",
              "  <tbody>\n",
              "    <tr>\n",
              "      <th>0</th>\n",
              "      <td>1</td>\n",
              "      <td>0</td>\n",
              "    </tr>\n",
              "    <tr>\n",
              "      <th>1</th>\n",
              "      <td>1</td>\n",
              "      <td>0</td>\n",
              "    </tr>\n",
              "    <tr>\n",
              "      <th>2</th>\n",
              "      <td>0</td>\n",
              "      <td>0</td>\n",
              "    </tr>\n",
              "    <tr>\n",
              "      <th>3</th>\n",
              "      <td>0</td>\n",
              "      <td>0</td>\n",
              "    </tr>\n",
              "    <tr>\n",
              "      <th>4</th>\n",
              "      <td>0</td>\n",
              "      <td>0</td>\n",
              "    </tr>\n",
              "  </tbody>\n",
              "</table>\n",
              "</div>"
            ],
            "text/plain": [
              "   chocolate  peanutyalmondy\n",
              "0          1               0\n",
              "1          1               0\n",
              "2          0               0\n",
              "3          0               0\n",
              "4          0               0"
            ]
          },
          "metadata": {
            "tags": []
          },
          "execution_count": 37
        }
      ]
    },
    {
      "cell_type": "code",
      "metadata": {
        "colab_type": "code",
        "id": "WZTNm40M1-oo",
        "outputId": "d69992f3-97b9-4e7c-a976-f40cab2b67ca",
        "colab": {
          "base_uri": "https://localhost:8080/",
          "height": 493
        }
      },
      "source": [
        "lin_reg(X,y)\n"
      ],
      "execution_count": 0,
      "outputs": [
        {
          "output_type": "stream",
          "text": [
            "Train cases as below\n",
            "X_train shape:  (72, 2)\n",
            "y_train shape:  (72,)\n",
            "\n",
            "Test cases as below\n",
            "X_test shape:  (13, 2)\n",
            "y_test shape:  (13,)\n",
            "\n",
            "\n",
            "RMSE for training set is 11.221208285009476\n",
            "RMSE for test set is 9.57739874204914\n",
            "\n",
            "\n",
            "R-Square for training set is 0.40974412677090355\n",
            "R-Square  for test set is 0.5730120298969794\n",
            "\n",
            "\n",
            "Adjusted R-Square for test set is 0.5625976891627593\n",
            "Adjusted R-Square  for training set is 0.39534764205799877\n",
            "\n",
            "\n",
            "Intercept: 42.138983361111116\n",
            "Coefficients: [15.55127107  8.55149692]\n",
            "\n",
            "\n",
            "Intercept 42.138983361111116\n",
            "chocolate 15.551271066666668\n",
            "peanutyalmondy 8.551496916666665\n"
          ],
          "name": "stdout"
        }
      ]
    },
    {
      "cell_type": "markdown",
      "metadata": {
        "colab_type": "text",
        "id": "HjgKMMuNUWQV"
      },
      "source": [
        "* **Adjusted R-square** explains **56% of variance**\n",
        "* Candies which contains **chocolate contibutes to winpercent upto 15.55 points** of winpercent compared to candies with no chocolate\n",
        "* Candies which contains **peanutyalmondy contibutes to winpercent upto 8.55 points** of winpercent compared to candies with no peanutyalmondy"
      ]
    },
    {
      "cell_type": "markdown",
      "metadata": {
        "colab_type": "text",
        "id": "JtFHHDX3Vfkh"
      },
      "source": [
        "__Distribution of Features with derived columns__"
      ]
    },
    {
      "cell_type": "code",
      "metadata": {
        "colab_type": "code",
        "id": "o_uySHqQ5vnp",
        "outputId": "01ba3bfb-385c-439d-ca47-cc9af14cd3e6",
        "colab": {
          "base_uri": "https://localhost:8080/",
          "height": 224
        }
      },
      "source": [
        "df.head()"
      ],
      "execution_count": 0,
      "outputs": [
        {
          "output_type": "execute_result",
          "data": {
            "text/html": [
              "<div>\n",
              "<style scoped>\n",
              "    .dataframe tbody tr th:only-of-type {\n",
              "        vertical-align: middle;\n",
              "    }\n",
              "\n",
              "    .dataframe tbody tr th {\n",
              "        vertical-align: top;\n",
              "    }\n",
              "\n",
              "    .dataframe thead th {\n",
              "        text-align: right;\n",
              "    }\n",
              "</style>\n",
              "<table border=\"1\" class=\"dataframe\">\n",
              "  <thead>\n",
              "    <tr style=\"text-align: right;\">\n",
              "      <th></th>\n",
              "      <th>competitorname</th>\n",
              "      <th>chocolate</th>\n",
              "      <th>fruity</th>\n",
              "      <th>caramel</th>\n",
              "      <th>peanutyalmondy</th>\n",
              "      <th>nougat</th>\n",
              "      <th>crispedricewafer</th>\n",
              "      <th>hard</th>\n",
              "      <th>bar</th>\n",
              "      <th>pluribus</th>\n",
              "      <th>sugarpercent</th>\n",
              "      <th>pricepercent</th>\n",
              "      <th>winpercent</th>\n",
              "      <th>sugarbyprice</th>\n",
              "      <th>winbyprice</th>\n",
              "    </tr>\n",
              "  </thead>\n",
              "  <tbody>\n",
              "    <tr>\n",
              "      <th>0</th>\n",
              "      <td>100 Grand</td>\n",
              "      <td>1</td>\n",
              "      <td>0</td>\n",
              "      <td>1</td>\n",
              "      <td>0</td>\n",
              "      <td>0</td>\n",
              "      <td>1</td>\n",
              "      <td>0</td>\n",
              "      <td>1</td>\n",
              "      <td>0</td>\n",
              "      <td>0.73</td>\n",
              "      <td>0.86</td>\n",
              "      <td>0.67</td>\n",
              "      <td>0.85</td>\n",
              "      <td>0.78</td>\n",
              "    </tr>\n",
              "    <tr>\n",
              "      <th>1</th>\n",
              "      <td>3 Musketeers</td>\n",
              "      <td>1</td>\n",
              "      <td>0</td>\n",
              "      <td>0</td>\n",
              "      <td>0</td>\n",
              "      <td>1</td>\n",
              "      <td>0</td>\n",
              "      <td>0</td>\n",
              "      <td>1</td>\n",
              "      <td>0</td>\n",
              "      <td>0.60</td>\n",
              "      <td>0.51</td>\n",
              "      <td>0.68</td>\n",
              "      <td>1.18</td>\n",
              "      <td>1.32</td>\n",
              "    </tr>\n",
              "    <tr>\n",
              "      <th>2</th>\n",
              "      <td>One dime</td>\n",
              "      <td>0</td>\n",
              "      <td>0</td>\n",
              "      <td>0</td>\n",
              "      <td>0</td>\n",
              "      <td>0</td>\n",
              "      <td>0</td>\n",
              "      <td>0</td>\n",
              "      <td>0</td>\n",
              "      <td>0</td>\n",
              "      <td>0.01</td>\n",
              "      <td>0.12</td>\n",
              "      <td>0.32</td>\n",
              "      <td>0.09</td>\n",
              "      <td>2.78</td>\n",
              "    </tr>\n",
              "    <tr>\n",
              "      <th>3</th>\n",
              "      <td>One quarter</td>\n",
              "      <td>0</td>\n",
              "      <td>0</td>\n",
              "      <td>0</td>\n",
              "      <td>0</td>\n",
              "      <td>0</td>\n",
              "      <td>0</td>\n",
              "      <td>0</td>\n",
              "      <td>0</td>\n",
              "      <td>0</td>\n",
              "      <td>0.01</td>\n",
              "      <td>0.51</td>\n",
              "      <td>0.46</td>\n",
              "      <td>0.02</td>\n",
              "      <td>0.90</td>\n",
              "    </tr>\n",
              "    <tr>\n",
              "      <th>4</th>\n",
              "      <td>Air Heads</td>\n",
              "      <td>0</td>\n",
              "      <td>1</td>\n",
              "      <td>0</td>\n",
              "      <td>0</td>\n",
              "      <td>0</td>\n",
              "      <td>0</td>\n",
              "      <td>0</td>\n",
              "      <td>0</td>\n",
              "      <td>0</td>\n",
              "      <td>0.91</td>\n",
              "      <td>0.51</td>\n",
              "      <td>0.52</td>\n",
              "      <td>1.77</td>\n",
              "      <td>1.02</td>\n",
              "    </tr>\n",
              "  </tbody>\n",
              "</table>\n",
              "</div>"
            ],
            "text/plain": [
              "  competitorname  chocolate  fruity  caramel  peanutyalmondy  nougat  \\\n",
              "0      100 Grand          1       0        1               0       0   \n",
              "1   3 Musketeers          1       0        0               0       1   \n",
              "2       One dime          0       0        0               0       0   \n",
              "3    One quarter          0       0        0               0       0   \n",
              "4      Air Heads          0       1        0               0       0   \n",
              "\n",
              "   crispedricewafer  hard  bar  pluribus  sugarpercent  pricepercent  \\\n",
              "0                 1     0    1         0          0.73          0.86   \n",
              "1                 0     0    1         0          0.60          0.51   \n",
              "2                 0     0    0         0          0.01          0.12   \n",
              "3                 0     0    0         0          0.01          0.51   \n",
              "4                 0     0    0         0          0.91          0.51   \n",
              "\n",
              "   winpercent  sugarbyprice  winbyprice  \n",
              "0        0.67          0.85        0.78  \n",
              "1        0.68          1.18        1.32  \n",
              "2        0.32          0.09        2.78  \n",
              "3        0.46          0.02        0.90  \n",
              "4        0.52          1.77        1.02  "
            ]
          },
          "metadata": {
            "tags": []
          },
          "execution_count": 39
        }
      ]
    },
    {
      "cell_type": "code",
      "metadata": {
        "colab_type": "code",
        "id": "htQ5E_k5Vfki",
        "outputId": "fa7da991-d137-4194-dc13-31c42d9513e5",
        "colab": {
          "base_uri": "https://localhost:8080/",
          "height": 34
        }
      },
      "source": [
        "# Set up the matplotlib figure\n",
        "f, axes = plt.subplots(2, 2, figsize=(7, 7), sharex=True)                       \n",
        "sns.despine(left=True)\n",
        "\n",
        "sns.distplot(df.sugarpercent, color=\"b\", ax=axes[0, 0])\n",
        "\n",
        "sns.distplot(df.pricepercent, color=\"r\", ax=axes[0, 1])\n",
        "\n",
        "sns.distplot(df.winpercent, color=\"g\", ax=axes[1, 0])\n",
        "\n"
      ],
      "execution_count": 0,
      "outputs": [
        {
          "output_type": "execute_result",
          "data": {
            "text/plain": [
              "<matplotlib.axes._subplots.AxesSubplot at 0x7f4bbe4ce080>"
            ]
          },
          "metadata": {
            "tags": []
          },
          "execution_count": 41
        }
      ]
    },
    {
      "cell_type": "code",
      "metadata": {
        "colab_type": "code",
        "id": "0qFAMW0RVfkl",
        "colab": {}
      },
      "source": [
        "# chocolate\tfruity\tcaramel\tpeanutyalmondy\n",
        "JG1 = sns.jointplot(\"chocolate\", \"winpercent\", data=df, kind='reg')\n",
        "JG2 = sns.jointplot(\"peanutyalmondy\", \"winpercent\", data=df, kind='reg')\n",
        "JG3 = sns.jointplot(\"fruity\", \"winpercent\", data=df, kind='reg')\n",
        "\n",
        "#subplots migration\n",
        "f = plt.figure()\n",
        "for J in [JG1, JG2,JG3]:\n",
        "    for A in J.fig.axes:\n",
        "        f._axstack.add(f._make_key(A), A)"
      ],
      "execution_count": 0,
      "outputs": []
    },
    {
      "cell_type": "markdown",
      "metadata": {
        "colab_type": "text",
        "id": "2s-Pq4ZQVfko"
      },
      "source": [
        "**Observation :**\n",
        "winpercent and fruity is not  highly correlaed \n",
        "**winpercent** and **chocolate** is  **highly** **correlated**."
      ]
    },
    {
      "cell_type": "markdown",
      "metadata": {
        "colab_type": "text",
        "id": "hcXYB4FJVfkp"
      },
      "source": [
        "### Visualising Pairwise correlation"
      ]
    },
    {
      "cell_type": "code",
      "metadata": {
        "colab_type": "code",
        "id": "UI1Ck5ayVfkp",
        "outputId": "f33a0c2d-394a-4279-e675-c9c3afcf3179",
        "colab": {
          "base_uri": "https://localhost:8080/",
          "height": 34
        }
      },
      "source": [
        "sns.pairplot(df, size = 2, aspect = 1.5)"
      ],
      "execution_count": 0,
      "outputs": [
        {
          "output_type": "execute_result",
          "data": {
            "text/plain": [
              "<seaborn.axisgrid.PairGrid at 0x7f4bbadbd6d8>"
            ]
          },
          "metadata": {
            "tags": []
          },
          "execution_count": 43
        }
      ]
    },
    {
      "cell_type": "code",
      "metadata": {
        "colab_type": "code",
        "id": "tSGMqSc9Vfkt",
        "outputId": "9d5eb221-1f9f-4403-e8af-85bcd7a9cf6e",
        "colab": {
          "base_uri": "https://localhost:8080/",
          "height": 34
        }
      },
      "source": [
        "sns.pairplot(df, x_vars=['chocolate','fruity','caramel','peanutyalmondy'], y_vars='winpercent', size=5, aspect=1, kind='reg')"
      ],
      "execution_count": 0,
      "outputs": [
        {
          "output_type": "execute_result",
          "data": {
            "text/plain": [
              "<seaborn.axisgrid.PairGrid at 0x7f4bb698f8d0>"
            ]
          },
          "metadata": {
            "tags": []
          },
          "execution_count": 44
        }
      ]
    },
    {
      "cell_type": "markdown",
      "metadata": {
        "colab_type": "text",
        "id": "21aYjBK-Vfkw"
      },
      "source": [
        "**Observation**\n",
        "\n",
        "- Strong relationship between chocolate and winpercent\n",
        "- Weak relationship between fruity and winpercent\n",
        "- Peanultyalmony is having more relationship as compared with caramel and fruity \n"
      ]
    },
    {
      "cell_type": "markdown",
      "metadata": {
        "colab_type": "text",
        "id": "361k-HCAVfkx"
      },
      "source": [
        "##  Why Linear Regression\n",
        "\n",
        "__Linear regression__ is a _basic_ and _commonly_ used type of __predictive analysis__.  The overall idea of regression is to examine two things: \n",
        "- Does a set of __predictor variables__ do a good job in predicting an __outcome__ (dependent) variable?  \n",
        "- Which variables in particular are __significant predictors__ of the outcome variable, and in what way they do __impact__ the outcome variable?  \n",
        "\n",
        "These regression estimates are used to explain the __relationship between one dependent variable and one or more independent variables__.  The simplest form of the regression equation with one dependent and one independent variable is defined by the formula :<br/>\n",
        "$y = \\beta_0 + \\beta_1x$\n",
        "- __Standardization__. <br/>\n",
        "Standardize features by removing the _mean_ and scaling to _unit standard deviation_."
      ]
    },
    {
      "cell_type": "code",
      "metadata": {
        "colab_type": "code",
        "id": "4hEXsq_sVfkx",
        "colab": {}
      },
      "source": [
        "#Let’s get rid of the variable \"competitorname\" \n",
        "df_new = df.drop(['competitorname'], axis= 1)\n",
        "from sklearn.preprocessing import StandardScaler\n",
        "scaler = StandardScaler().fit(df_new)\n",
        "data1 = scaler.transform(df_new)\n"
      ],
      "execution_count": 0,
      "outputs": []
    },
    {
      "cell_type": "code",
      "metadata": {
        "colab_type": "code",
        "id": "HWI7ARTQVfk0",
        "outputId": "70bddf8b-403f-429b-cb6d-e9212f5a99ec",
        "colab": {
          "base_uri": "https://localhost:8080/",
          "height": 204
        }
      },
      "source": [
        "data = pd.DataFrame(data1)\n",
        "data.head()"
      ],
      "execution_count": 0,
      "outputs": [
        {
          "output_type": "execute_result",
          "data": {
            "text/html": [
              "<div>\n",
              "<style scoped>\n",
              "    .dataframe tbody tr th:only-of-type {\n",
              "        vertical-align: middle;\n",
              "    }\n",
              "\n",
              "    .dataframe tbody tr th {\n",
              "        vertical-align: top;\n",
              "    }\n",
              "\n",
              "    .dataframe thead th {\n",
              "        text-align: right;\n",
              "    }\n",
              "</style>\n",
              "<table border=\"1\" class=\"dataframe\">\n",
              "  <thead>\n",
              "    <tr style=\"text-align: right;\">\n",
              "      <th></th>\n",
              "      <th>0</th>\n",
              "      <th>1</th>\n",
              "      <th>2</th>\n",
              "      <th>3</th>\n",
              "      <th>4</th>\n",
              "      <th>5</th>\n",
              "      <th>6</th>\n",
              "      <th>7</th>\n",
              "      <th>8</th>\n",
              "      <th>9</th>\n",
              "      <th>10</th>\n",
              "      <th>11</th>\n",
              "      <th>12</th>\n",
              "      <th>13</th>\n",
              "    </tr>\n",
              "  </thead>\n",
              "  <tbody>\n",
              "    <tr>\n",
              "      <th>0</th>\n",
              "      <td>1.14</td>\n",
              "      <td>-0.90</td>\n",
              "      <td>2.25</td>\n",
              "      <td>-0.44</td>\n",
              "      <td>-0.30</td>\n",
              "      <td>3.34</td>\n",
              "      <td>-0.46</td>\n",
              "      <td>1.75</td>\n",
              "      <td>-1.04</td>\n",
              "      <td>0.90</td>\n",
              "      <td>1.38</td>\n",
              "      <td>1.14</td>\n",
              "      <td>-0.33</td>\n",
              "      <td>-0.34</td>\n",
              "    </tr>\n",
              "    <tr>\n",
              "      <th>1</th>\n",
              "      <td>1.14</td>\n",
              "      <td>-0.90</td>\n",
              "      <td>-0.44</td>\n",
              "      <td>-0.44</td>\n",
              "      <td>3.34</td>\n",
              "      <td>-0.30</td>\n",
              "      <td>-0.46</td>\n",
              "      <td>1.75</td>\n",
              "      <td>-1.04</td>\n",
              "      <td>0.45</td>\n",
              "      <td>0.15</td>\n",
              "      <td>1.18</td>\n",
              "      <td>-0.22</td>\n",
              "      <td>-0.24</td>\n",
              "    </tr>\n",
              "    <tr>\n",
              "      <th>2</th>\n",
              "      <td>-0.88</td>\n",
              "      <td>-0.90</td>\n",
              "      <td>-0.44</td>\n",
              "      <td>-0.44</td>\n",
              "      <td>-0.30</td>\n",
              "      <td>-0.30</td>\n",
              "      <td>-0.46</td>\n",
              "      <td>-0.57</td>\n",
              "      <td>-1.04</td>\n",
              "      <td>-1.66</td>\n",
              "      <td>-1.24</td>\n",
              "      <td>-1.23</td>\n",
              "      <td>-0.57</td>\n",
              "      <td>0.06</td>\n",
              "    </tr>\n",
              "    <tr>\n",
              "      <th>3</th>\n",
              "      <td>-0.88</td>\n",
              "      <td>-0.90</td>\n",
              "      <td>-0.44</td>\n",
              "      <td>-0.44</td>\n",
              "      <td>-0.30</td>\n",
              "      <td>-0.30</td>\n",
              "      <td>-0.46</td>\n",
              "      <td>-0.57</td>\n",
              "      <td>-1.04</td>\n",
              "      <td>-1.66</td>\n",
              "      <td>0.15</td>\n",
              "      <td>-0.29</td>\n",
              "      <td>-0.59</td>\n",
              "      <td>-0.32</td>\n",
              "    </tr>\n",
              "    <tr>\n",
              "      <th>4</th>\n",
              "      <td>-0.88</td>\n",
              "      <td>1.11</td>\n",
              "      <td>-0.44</td>\n",
              "      <td>-0.44</td>\n",
              "      <td>-0.30</td>\n",
              "      <td>-0.30</td>\n",
              "      <td>-0.46</td>\n",
              "      <td>-0.57</td>\n",
              "      <td>-1.04</td>\n",
              "      <td>1.52</td>\n",
              "      <td>0.15</td>\n",
              "      <td>0.14</td>\n",
              "      <td>-0.03</td>\n",
              "      <td>-0.30</td>\n",
              "    </tr>\n",
              "  </tbody>\n",
              "</table>\n",
              "</div>"
            ],
            "text/plain": [
              "     0     1     2     3     4     5     6     7     8     9     10    11  \\\n",
              "0  1.14 -0.90  2.25 -0.44 -0.30  3.34 -0.46  1.75 -1.04  0.90  1.38  1.14   \n",
              "1  1.14 -0.90 -0.44 -0.44  3.34 -0.30 -0.46  1.75 -1.04  0.45  0.15  1.18   \n",
              "2 -0.88 -0.90 -0.44 -0.44 -0.30 -0.30 -0.46 -0.57 -1.04 -1.66 -1.24 -1.23   \n",
              "3 -0.88 -0.90 -0.44 -0.44 -0.30 -0.30 -0.46 -0.57 -1.04 -1.66  0.15 -0.29   \n",
              "4 -0.88  1.11 -0.44 -0.44 -0.30 -0.30 -0.46 -0.57 -1.04  1.52  0.15  0.14   \n",
              "\n",
              "     12    13  \n",
              "0 -0.33 -0.34  \n",
              "1 -0.22 -0.24  \n",
              "2 -0.57  0.06  \n",
              "3 -0.59 -0.32  \n",
              "4 -0.03 -0.30  "
            ]
          },
          "metadata": {
            "tags": []
          },
          "execution_count": 99
        }
      ]
    },
    {
      "cell_type": "code",
      "metadata": {
        "colab_type": "code",
        "id": "V3W8xq5jVfk2",
        "outputId": "3d4eab38-4b2e-413d-a342-294db3aefa3c",
        "colab": {
          "base_uri": "https://localhost:8080/",
          "height": 224
        }
      },
      "source": [
        "data.columns = [\"chocolate\",\"fruity\",\"caramel\",\"peanutyalmondy\",\"nougat\",\"crispedricewafer\",\"hard\",\"bar\",\"pluribus\",\"sugarpercent\",\"pricepercent\",\"winpercent\",\"sugarbyprice\",\"winbyprice\"]\n",
        "data.head()"
      ],
      "execution_count": 0,
      "outputs": [
        {
          "output_type": "execute_result",
          "data": {
            "text/html": [
              "<div>\n",
              "<style scoped>\n",
              "    .dataframe tbody tr th:only-of-type {\n",
              "        vertical-align: middle;\n",
              "    }\n",
              "\n",
              "    .dataframe tbody tr th {\n",
              "        vertical-align: top;\n",
              "    }\n",
              "\n",
              "    .dataframe thead th {\n",
              "        text-align: right;\n",
              "    }\n",
              "</style>\n",
              "<table border=\"1\" class=\"dataframe\">\n",
              "  <thead>\n",
              "    <tr style=\"text-align: right;\">\n",
              "      <th></th>\n",
              "      <th>chocolate</th>\n",
              "      <th>fruity</th>\n",
              "      <th>caramel</th>\n",
              "      <th>peanutyalmondy</th>\n",
              "      <th>nougat</th>\n",
              "      <th>crispedricewafer</th>\n",
              "      <th>hard</th>\n",
              "      <th>bar</th>\n",
              "      <th>pluribus</th>\n",
              "      <th>sugarpercent</th>\n",
              "      <th>pricepercent</th>\n",
              "      <th>winpercent</th>\n",
              "      <th>sugarbyprice</th>\n",
              "      <th>winbyprice</th>\n",
              "    </tr>\n",
              "  </thead>\n",
              "  <tbody>\n",
              "    <tr>\n",
              "      <th>0</th>\n",
              "      <td>1.14</td>\n",
              "      <td>-0.90</td>\n",
              "      <td>2.25</td>\n",
              "      <td>-0.44</td>\n",
              "      <td>-0.30</td>\n",
              "      <td>3.34</td>\n",
              "      <td>-0.46</td>\n",
              "      <td>1.75</td>\n",
              "      <td>-1.04</td>\n",
              "      <td>0.90</td>\n",
              "      <td>1.38</td>\n",
              "      <td>1.14</td>\n",
              "      <td>-0.33</td>\n",
              "      <td>-0.34</td>\n",
              "    </tr>\n",
              "    <tr>\n",
              "      <th>1</th>\n",
              "      <td>1.14</td>\n",
              "      <td>-0.90</td>\n",
              "      <td>-0.44</td>\n",
              "      <td>-0.44</td>\n",
              "      <td>3.34</td>\n",
              "      <td>-0.30</td>\n",
              "      <td>-0.46</td>\n",
              "      <td>1.75</td>\n",
              "      <td>-1.04</td>\n",
              "      <td>0.45</td>\n",
              "      <td>0.15</td>\n",
              "      <td>1.18</td>\n",
              "      <td>-0.22</td>\n",
              "      <td>-0.24</td>\n",
              "    </tr>\n",
              "    <tr>\n",
              "      <th>2</th>\n",
              "      <td>-0.88</td>\n",
              "      <td>-0.90</td>\n",
              "      <td>-0.44</td>\n",
              "      <td>-0.44</td>\n",
              "      <td>-0.30</td>\n",
              "      <td>-0.30</td>\n",
              "      <td>-0.46</td>\n",
              "      <td>-0.57</td>\n",
              "      <td>-1.04</td>\n",
              "      <td>-1.66</td>\n",
              "      <td>-1.24</td>\n",
              "      <td>-1.23</td>\n",
              "      <td>-0.57</td>\n",
              "      <td>0.06</td>\n",
              "    </tr>\n",
              "    <tr>\n",
              "      <th>3</th>\n",
              "      <td>-0.88</td>\n",
              "      <td>-0.90</td>\n",
              "      <td>-0.44</td>\n",
              "      <td>-0.44</td>\n",
              "      <td>-0.30</td>\n",
              "      <td>-0.30</td>\n",
              "      <td>-0.46</td>\n",
              "      <td>-0.57</td>\n",
              "      <td>-1.04</td>\n",
              "      <td>-1.66</td>\n",
              "      <td>0.15</td>\n",
              "      <td>-0.29</td>\n",
              "      <td>-0.59</td>\n",
              "      <td>-0.32</td>\n",
              "    </tr>\n",
              "    <tr>\n",
              "      <th>4</th>\n",
              "      <td>-0.88</td>\n",
              "      <td>1.11</td>\n",
              "      <td>-0.44</td>\n",
              "      <td>-0.44</td>\n",
              "      <td>-0.30</td>\n",
              "      <td>-0.30</td>\n",
              "      <td>-0.46</td>\n",
              "      <td>-0.57</td>\n",
              "      <td>-1.04</td>\n",
              "      <td>1.52</td>\n",
              "      <td>0.15</td>\n",
              "      <td>0.14</td>\n",
              "      <td>-0.03</td>\n",
              "      <td>-0.30</td>\n",
              "    </tr>\n",
              "  </tbody>\n",
              "</table>\n",
              "</div>"
            ],
            "text/plain": [
              "   chocolate  fruity  caramel  peanutyalmondy  nougat  crispedricewafer  hard  \\\n",
              "0       1.14   -0.90     2.25           -0.44   -0.30              3.34 -0.46   \n",
              "1       1.14   -0.90    -0.44           -0.44    3.34             -0.30 -0.46   \n",
              "2      -0.88   -0.90    -0.44           -0.44   -0.30             -0.30 -0.46   \n",
              "3      -0.88   -0.90    -0.44           -0.44   -0.30             -0.30 -0.46   \n",
              "4      -0.88    1.11    -0.44           -0.44   -0.30             -0.30 -0.46   \n",
              "\n",
              "    bar  pluribus  sugarpercent  pricepercent  winpercent  sugarbyprice  \\\n",
              "0  1.75     -1.04          0.90          1.38        1.14         -0.33   \n",
              "1  1.75     -1.04          0.45          0.15        1.18         -0.22   \n",
              "2 -0.57     -1.04         -1.66         -1.24       -1.23         -0.57   \n",
              "3 -0.57     -1.04         -1.66          0.15       -0.29         -0.59   \n",
              "4 -0.57     -1.04          1.52          0.15        0.14         -0.03   \n",
              "\n",
              "   winbyprice  \n",
              "0       -0.34  \n",
              "1       -0.24  \n",
              "2        0.06  \n",
              "3       -0.32  \n",
              "4       -0.30  "
            ]
          },
          "metadata": {
            "tags": []
          },
          "execution_count": 100
        }
      ]
    },
    {
      "cell_type": "code",
      "metadata": {
        "colab_type": "code",
        "id": "nhGs_1dlVfk5",
        "colab": {}
      },
      "source": [
        "# create a Python list of feature names\n",
        "feature_cols = ['chocolate','fruity','caramel','peanutyalmondy','sugarpercent','pricepercent','winpercent','sugarbyprice', 'winbyprice']                \n",
        "\n",
        "# use the list to select a subset of the original DataFrame-+\n",
        "X = data[feature_cols]                                    "
      ],
      "execution_count": 0,
      "outputs": []
    },
    {
      "cell_type": "code",
      "metadata": {
        "colab_type": "code",
        "id": "cuOMlVyeVfk9",
        "outputId": "519e899f-7096-4fc4-f3dd-01f075bdda97",
        "colab": {
          "base_uri": "https://localhost:8080/",
          "height": 51
        }
      },
      "source": [
        "print(type(X)) \n",
        "print(X.shape) #Checking the type and shape of X."
      ],
      "execution_count": 0,
      "outputs": [
        {
          "output_type": "stream",
          "text": [
            "<class 'pandas.core.frame.DataFrame'>\n",
            "(85, 9)\n"
          ],
          "name": "stdout"
        }
      ]
    },
    {
      "cell_type": "code",
      "metadata": {
        "id": "Mgz3WevTImSP",
        "colab_type": "code",
        "outputId": "91511c1a-f128-46b3-dba0-8750f1ebaf08",
        "colab": {
          "base_uri": "https://localhost:8080/",
          "height": 204
        }
      },
      "source": [
        "X.head()"
      ],
      "execution_count": 0,
      "outputs": [
        {
          "output_type": "execute_result",
          "data": {
            "text/html": [
              "<div>\n",
              "<style scoped>\n",
              "    .dataframe tbody tr th:only-of-type {\n",
              "        vertical-align: middle;\n",
              "    }\n",
              "\n",
              "    .dataframe tbody tr th {\n",
              "        vertical-align: top;\n",
              "    }\n",
              "\n",
              "    .dataframe thead th {\n",
              "        text-align: right;\n",
              "    }\n",
              "</style>\n",
              "<table border=\"1\" class=\"dataframe\">\n",
              "  <thead>\n",
              "    <tr style=\"text-align: right;\">\n",
              "      <th></th>\n",
              "      <th>chocolate</th>\n",
              "      <th>fruity</th>\n",
              "      <th>caramel</th>\n",
              "      <th>peanutyalmondy</th>\n",
              "      <th>sugarpercent</th>\n",
              "      <th>pricepercent</th>\n",
              "      <th>winpercent</th>\n",
              "      <th>sugarbyprice</th>\n",
              "      <th>winbyprice</th>\n",
              "    </tr>\n",
              "  </thead>\n",
              "  <tbody>\n",
              "    <tr>\n",
              "      <th>0</th>\n",
              "      <td>1.14</td>\n",
              "      <td>-0.90</td>\n",
              "      <td>2.25</td>\n",
              "      <td>-0.44</td>\n",
              "      <td>0.90</td>\n",
              "      <td>1.38</td>\n",
              "      <td>1.14</td>\n",
              "      <td>-0.33</td>\n",
              "      <td>-0.34</td>\n",
              "    </tr>\n",
              "    <tr>\n",
              "      <th>1</th>\n",
              "      <td>1.14</td>\n",
              "      <td>-0.90</td>\n",
              "      <td>-0.44</td>\n",
              "      <td>-0.44</td>\n",
              "      <td>0.45</td>\n",
              "      <td>0.15</td>\n",
              "      <td>1.18</td>\n",
              "      <td>-0.22</td>\n",
              "      <td>-0.24</td>\n",
              "    </tr>\n",
              "    <tr>\n",
              "      <th>2</th>\n",
              "      <td>-0.88</td>\n",
              "      <td>-0.90</td>\n",
              "      <td>-0.44</td>\n",
              "      <td>-0.44</td>\n",
              "      <td>-1.66</td>\n",
              "      <td>-1.24</td>\n",
              "      <td>-1.23</td>\n",
              "      <td>-0.57</td>\n",
              "      <td>0.06</td>\n",
              "    </tr>\n",
              "    <tr>\n",
              "      <th>3</th>\n",
              "      <td>-0.88</td>\n",
              "      <td>-0.90</td>\n",
              "      <td>-0.44</td>\n",
              "      <td>-0.44</td>\n",
              "      <td>-1.66</td>\n",
              "      <td>0.15</td>\n",
              "      <td>-0.29</td>\n",
              "      <td>-0.59</td>\n",
              "      <td>-0.32</td>\n",
              "    </tr>\n",
              "    <tr>\n",
              "      <th>4</th>\n",
              "      <td>-0.88</td>\n",
              "      <td>1.11</td>\n",
              "      <td>-0.44</td>\n",
              "      <td>-0.44</td>\n",
              "      <td>1.52</td>\n",
              "      <td>0.15</td>\n",
              "      <td>0.14</td>\n",
              "      <td>-0.03</td>\n",
              "      <td>-0.30</td>\n",
              "    </tr>\n",
              "  </tbody>\n",
              "</table>\n",
              "</div>"
            ],
            "text/plain": [
              "   chocolate  fruity  caramel  peanutyalmondy  sugarpercent  pricepercent  \\\n",
              "0       1.14   -0.90     2.25           -0.44          0.90          1.38   \n",
              "1       1.14   -0.90    -0.44           -0.44          0.45          0.15   \n",
              "2      -0.88   -0.90    -0.44           -0.44         -1.66         -1.24   \n",
              "3      -0.88   -0.90    -0.44           -0.44         -1.66          0.15   \n",
              "4      -0.88    1.11    -0.44           -0.44          1.52          0.15   \n",
              "\n",
              "   winpercent  sugarbyprice  winbyprice  \n",
              "0        1.14         -0.33       -0.34  \n",
              "1        1.18         -0.22       -0.24  \n",
              "2       -1.23         -0.57        0.06  \n",
              "3       -0.29         -0.59       -0.32  \n",
              "4        0.14         -0.03       -0.30  "
            ]
          },
          "metadata": {
            "tags": []
          },
          "execution_count": 103
        }
      ]
    },
    {
      "cell_type": "code",
      "metadata": {
        "colab_type": "code",
        "id": "dzfP-prnVflA",
        "outputId": "4e66542b-72e8-4ed7-a51f-254a2bc1c7ee",
        "colab": {
          "base_uri": "https://localhost:8080/",
          "height": 119
        }
      },
      "source": [
        "y = data.winpercent\n",
        "y.head()"
      ],
      "execution_count": 0,
      "outputs": [
        {
          "output_type": "execute_result",
          "data": {
            "text/plain": [
              "0    1.14\n",
              "1    1.18\n",
              "2   -1.23\n",
              "3   -0.29\n",
              "4    0.14\n",
              "Name: winpercent, dtype: float64"
            ]
          },
          "metadata": {
            "tags": []
          },
          "execution_count": 104
        }
      ]
    },
    {
      "cell_type": "code",
      "metadata": {
        "colab_type": "code",
        "id": "mddoJu-fVflD",
        "outputId": "80da612c-95d1-4d5a-a915-ba8a7281d425",
        "colab": {
          "base_uri": "https://localhost:8080/",
          "height": 51
        }
      },
      "source": [
        "print(type(y))\n",
        "print(y.shape) #Check the type and shape of y"
      ],
      "execution_count": 0,
      "outputs": [
        {
          "output_type": "stream",
          "text": [
            "<class 'pandas.core.series.Series'>\n",
            "(85,)\n"
          ],
          "name": "stdout"
        }
      ]
    },
    {
      "cell_type": "markdown",
      "metadata": {
        "colab_type": "text",
        "id": "v4vkztrGVflF"
      },
      "source": [
        "**Splitting X and y into training and test datasets.**"
      ]
    },
    {
      "cell_type": "code",
      "metadata": {
        "colab_type": "code",
        "id": "8bESyl4OVflH",
        "outputId": "04f501f2-ce30-4713-8b75-c18fabf1e92c",
        "colab": {
          "base_uri": "https://localhost:8080/",
          "height": 136
        }
      },
      "source": [
        "#use model_selection instead cross_validation\n",
        "from sklearn.model_selection import train_test_split  \n",
        "\n",
        "def split(X,y):\n",
        "    return train_test_split(X, y, test_size=0.20, random_state=1)\n",
        "X_train, X_test, y_train, y_test=split(X,y)\n",
        "print('Train cases as below')\n",
        "print('X_train shape: ',X_train.shape)\n",
        "print('y_train shape: ',y_train.shape)\n",
        "print('\\nTest cases as below')\n",
        "print('X_test shape: ',X_test.shape)\n",
        "print('y_test shape: ',y_test.shape)"
      ],
      "execution_count": 0,
      "outputs": [
        {
          "output_type": "stream",
          "text": [
            "Train cases as below\n",
            "X_train shape:  (68, 9)\n",
            "y_train shape:  (68,)\n",
            "\n",
            "Test cases as below\n",
            "X_test shape:  (17, 9)\n",
            "y_test shape:  (17,)\n"
          ],
          "name": "stdout"
        }
      ]
    },
    {
      "cell_type": "code",
      "metadata": {
        "colab_type": "code",
        "id": "WGE7Q7V7VflM",
        "colab": {}
      },
      "source": [
        "def linear_reg( X, y, gridsearch = False):\n",
        "    \n",
        "    X_train, X_test, y_train, y_test = split(X,y)\n",
        "    \n",
        "    from sklearn.linear_model import LinearRegression\n",
        "    linreg = LinearRegression()\n",
        "    \n",
        "    if not(gridsearch):\n",
        "        linreg.fit(X_train, y_train) \n",
        "\n",
        "    else:\n",
        "        from sklearn.model_selection import GridSearchCV\n",
        "        parameters = {'normalize':[True,False], 'copy_X':[True, False]}\n",
        "        linreg = GridSearchCV(linreg,parameters, cv = 10,refit = True)\n",
        "        linreg.fit(X_train, y_train)   # fit the model to the training data (learn the coefficients)                                                    \n",
        "    \n",
        "        print(\"Mean cross-validated score of the best_estimator : \", linreg.best_score_)  \n",
        "        \n",
        "        y_pred_test = linreg.predict(X_test)                # make predictions on the testing set\n",
        "\n",
        "        RMSE_test = (metrics.mean_squared_error(y_test, y_pred_test))    # compute the RMSE of our predictions\n",
        "        print('RMSE for the test set is {}'.format(RMSE_test))\n",
        "\n",
        "    return linreg"
      ],
      "execution_count": 0,
      "outputs": []
    },
    {
      "cell_type": "markdown",
      "metadata": {
        "colab_type": "text",
        "id": "Spfi6uXlVflQ"
      },
      "source": [
        "## Linear regression in scikit-learn\n",
        "To apply any machine learning algorithm on your dataset, basically there are 4 steps:\n",
        "1. Load the algorithm\n",
        "2. Instantiate and Fit the model to the training dataset\n",
        "3. Prediction on the test set\n",
        "4. Calculating Root mean square error \n",
        "The code block given below shows how these steps are carried out:<br/>\n",
        "\n",
        "``` from sklearn.linear_model import LinearRegression\n",
        "\n",
        "    linreg = LinearRegression()\n",
        "    \n",
        "    linreg.fit(X_train, y_train) \n",
        "    \n",
        "    RMSE_test = np.sqrt(metrics.mean_squared_error(y_test, y_pred_test))```"
      ]
    },
    {
      "cell_type": "markdown",
      "metadata": {
        "colab_type": "text",
        "id": "Lc9EAxndVflR"
      },
      "source": [
        "### Linear Regression Model without GridSearchCV\n"
      ]
    },
    {
      "cell_type": "code",
      "metadata": {
        "colab_type": "code",
        "id": "9SYtR3zDVflS",
        "colab": {}
      },
      "source": [
        "X = data[feature_cols]  \n",
        "y = data.winbyprice\n",
        "linreg = linear_reg(X,y)"
      ],
      "execution_count": 0,
      "outputs": []
    },
    {
      "cell_type": "code",
      "metadata": {
        "colab_type": "code",
        "id": "Bqa0-KG4VflV",
        "outputId": "9d8fe324-6900-4b44-fe7f-e661876faf44",
        "colab": {
          "base_uri": "https://localhost:8080/",
          "height": 85
        }
      },
      "source": [
        "#Interpreting Model Coefficients\n",
        "print('Intercept:',linreg.intercept_)          # print the intercept \n",
        "print('Coefficients:',linreg.coef_) "
      ],
      "execution_count": 0,
      "outputs": [
        {
          "output_type": "stream",
          "text": [
            "Intercept: 2.42861286636753e-17\n",
            "Coefficients: [ 4.68628041e-17 -4.23272528e-16  1.43114687e-16 -1.45716772e-16\n",
            "  4.77048956e-17 -5.20417043e-17  4.16333634e-17 -1.17961196e-16\n",
            "  1.00000000e+00]\n"
          ],
          "name": "stdout"
        }
      ]
    },
    {
      "cell_type": "markdown",
      "metadata": {
        "colab_type": "text",
        "id": "lcyKCeIXVfla"
      },
      "source": [
        "Its hard to remember the order of the feature names, we so we are __zipping__ the features to pair the feature names with the coefficients"
      ]
    },
    {
      "cell_type": "code",
      "metadata": {
        "colab_type": "code",
        "id": "GHepLbl0Vfla",
        "colab": {}
      },
      "source": [
        "feature_cols.insert(0,'Intercept')\n",
        "coef = linreg.coef_.tolist()            \n",
        "coef.insert(0, linreg.intercept_)       "
      ],
      "execution_count": 0,
      "outputs": []
    },
    {
      "cell_type": "code",
      "metadata": {
        "colab_type": "code",
        "id": "2xHR_Zban5OO",
        "outputId": "8999711a-66b8-43e1-8f6c-4dbf98550367",
        "colab": {
          "base_uri": "https://localhost:8080/",
          "height": 187
        }
      },
      "source": [
        "eq1 = zip(feature_cols, coef)\n",
        "\n",
        "for c1,c2 in eq1:\n",
        "    print(c1,c2)"
      ],
      "execution_count": 0,
      "outputs": [
        {
          "output_type": "stream",
          "text": [
            "Intercept 2.42861286636753e-17\n",
            "chocolate 4.686280413131546e-17\n",
            "fruity -4.2327252813834093e-16\n",
            "caramel 1.4311468676808659e-16\n",
            "peanutyalmondy -1.457167719820518e-16\n",
            "sugarpercent 4.7704895589362195e-17\n",
            "pricepercent -5.204170427930421e-17\n",
            "winpercent 4.163336342344337e-17\n",
            "sugarbyprice -1.1796119636642288e-16\n",
            "winbyprice 1.0000000000000004\n"
          ],
          "name": "stdout"
        }
      ]
    },
    {
      "cell_type": "markdown",
      "metadata": {
        "colab_type": "text",
        "id": "lIhvt_bVVfmt"
      },
      "source": [
        "<hr>\n",
        "\n",
        "### Linear Regression Model with GridSearchCV"
      ]
    },
    {
      "cell_type": "code",
      "metadata": {
        "id": "Mer8Te66Tmxh",
        "colab_type": "code",
        "outputId": "8145d05e-e6a9-47e3-97e7-80d40bce30f0",
        "colab": {
          "base_uri": "https://localhost:8080/",
          "height": 51
        }
      },
      "source": [
        "#with gridsearch = true\n",
        "X = data[feature_cols]  \n",
        "y = data.winbyprice\n",
        "linreg = linear_reg(X,y,gridsearch=True)\n"
      ],
      "execution_count": 0,
      "outputs": [
        {
          "output_type": "stream",
          "text": [
            "Mean cross-validated score of the best_estimator :  1.0\n",
            "RMSE for the test set is 1.0176188988654423e-30\n"
          ],
          "name": "stdout"
        }
      ]
    }
  ]
}